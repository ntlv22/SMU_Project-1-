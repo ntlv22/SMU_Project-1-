{
 "cells": [
  {
   "cell_type": "code",
   "execution_count": 1,
   "metadata": {},
   "outputs": [],
   "source": [
    "import pandas as pd\n",
    "import matplotlib.pyplot as plt\n",
    "import seaborn as sns\n",
    "\n",
    "\n",
    "import numpy as np\n",
    "\n",
    "import matplotlib.pyplot as plt\n",
    "\n",
    "%matplotlib inline\n",
    "import matplotlib.image as mpimg\n",
    "import math\n",
    "\n",
    "\n",
    "\n",
    "from matplotlib.offsetbox import (TextArea, DrawingArea, OffsetImage,\n",
    "                                  AnnotationBbox)\n",
    "\n",
    "from IPython.display import Image"
   ]
  },
  {
   "cell_type": "code",
   "execution_count": 2,
   "metadata": {},
   "outputs": [],
   "source": [
    "#read the files\n",
    "\n",
    "file1 = \"Output/cleanMovies.csv\"\n",
    "\n",
    "df = pd.read_csv(file1)\n"
   ]
  },
  {
   "cell_type": "code",
   "execution_count": 3,
   "metadata": {},
   "outputs": [
    {
     "data": {
      "text/html": [
       "<div>\n",
       "<style scoped>\n",
       "    .dataframe tbody tr th:only-of-type {\n",
       "        vertical-align: middle;\n",
       "    }\n",
       "\n",
       "    .dataframe tbody tr th {\n",
       "        vertical-align: top;\n",
       "    }\n",
       "\n",
       "    .dataframe thead th {\n",
       "        text-align: right;\n",
       "    }\n",
       "</style>\n",
       "<table border=\"1\" class=\"dataframe\">\n",
       "  <thead>\n",
       "    <tr style=\"text-align: right;\">\n",
       "      <th></th>\n",
       "      <th>ID</th>\n",
       "      <th>Title</th>\n",
       "      <th>Year</th>\n",
       "      <th>Age</th>\n",
       "      <th>IMDb</th>\n",
       "      <th>Netflix</th>\n",
       "      <th>Hulu</th>\n",
       "      <th>Prime Video</th>\n",
       "      <th>Disney+</th>\n",
       "      <th>Directors</th>\n",
       "      <th>Type</th>\n",
       "    </tr>\n",
       "  </thead>\n",
       "  <tbody>\n",
       "    <tr>\n",
       "      <th>0</th>\n",
       "      <td>1</td>\n",
       "      <td>Inception</td>\n",
       "      <td>2010</td>\n",
       "      <td>13.0</td>\n",
       "      <td>8.8</td>\n",
       "      <td>1</td>\n",
       "      <td>0</td>\n",
       "      <td>0</td>\n",
       "      <td>0</td>\n",
       "      <td>Christopher Nolan</td>\n",
       "      <td>0</td>\n",
       "    </tr>\n",
       "    <tr>\n",
       "      <th>1</th>\n",
       "      <td>2</td>\n",
       "      <td>The Matrix</td>\n",
       "      <td>1999</td>\n",
       "      <td>18.0</td>\n",
       "      <td>8.7</td>\n",
       "      <td>1</td>\n",
       "      <td>0</td>\n",
       "      <td>0</td>\n",
       "      <td>0</td>\n",
       "      <td>Lana Wachowski,Lilly Wachowski</td>\n",
       "      <td>0</td>\n",
       "    </tr>\n",
       "    <tr>\n",
       "      <th>2</th>\n",
       "      <td>3</td>\n",
       "      <td>Avengers: Infinity War</td>\n",
       "      <td>2018</td>\n",
       "      <td>13.0</td>\n",
       "      <td>8.5</td>\n",
       "      <td>1</td>\n",
       "      <td>0</td>\n",
       "      <td>0</td>\n",
       "      <td>0</td>\n",
       "      <td>Anthony Russo,Joe Russo</td>\n",
       "      <td>0</td>\n",
       "    </tr>\n",
       "    <tr>\n",
       "      <th>3</th>\n",
       "      <td>4</td>\n",
       "      <td>Back to the Future</td>\n",
       "      <td>1985</td>\n",
       "      <td>7.0</td>\n",
       "      <td>8.5</td>\n",
       "      <td>1</td>\n",
       "      <td>0</td>\n",
       "      <td>0</td>\n",
       "      <td>0</td>\n",
       "      <td>Robert Zemeckis</td>\n",
       "      <td>0</td>\n",
       "    </tr>\n",
       "    <tr>\n",
       "      <th>4</th>\n",
       "      <td>5</td>\n",
       "      <td>The Good, the Bad and the Ugly</td>\n",
       "      <td>1966</td>\n",
       "      <td>18.0</td>\n",
       "      <td>8.8</td>\n",
       "      <td>1</td>\n",
       "      <td>0</td>\n",
       "      <td>1</td>\n",
       "      <td>0</td>\n",
       "      <td>Sergio Leone</td>\n",
       "      <td>0</td>\n",
       "    </tr>\n",
       "  </tbody>\n",
       "</table>\n",
       "</div>"
      ],
      "text/plain": [
       "   ID                           Title  Year   Age  IMDb  Netflix  Hulu  \\\n",
       "0   1                       Inception  2010  13.0   8.8        1     0   \n",
       "1   2                      The Matrix  1999  18.0   8.7        1     0   \n",
       "2   3          Avengers: Infinity War  2018  13.0   8.5        1     0   \n",
       "3   4              Back to the Future  1985   7.0   8.5        1     0   \n",
       "4   5  The Good, the Bad and the Ugly  1966  18.0   8.8        1     0   \n",
       "\n",
       "   Prime Video  Disney+                       Directors  Type  \n",
       "0            0        0               Christopher Nolan     0  \n",
       "1            0        0  Lana Wachowski,Lilly Wachowski     0  \n",
       "2            0        0         Anthony Russo,Joe Russo     0  \n",
       "3            0        0                 Robert Zemeckis     0  \n",
       "4            1        0                    Sergio Leone     0  "
      ]
     },
     "execution_count": 3,
     "metadata": {},
     "output_type": "execute_result"
    }
   ],
   "source": [
    "df.head()"
   ]
  },
  {
   "cell_type": "code",
   "execution_count": 4,
   "metadata": {},
   "outputs": [
    {
     "data": {
      "text/html": [
       "<div>\n",
       "<style scoped>\n",
       "    .dataframe tbody tr th:only-of-type {\n",
       "        vertical-align: middle;\n",
       "    }\n",
       "\n",
       "    .dataframe tbody tr th {\n",
       "        vertical-align: top;\n",
       "    }\n",
       "\n",
       "    .dataframe thead th {\n",
       "        text-align: right;\n",
       "    }\n",
       "</style>\n",
       "<table border=\"1\" class=\"dataframe\">\n",
       "  <thead>\n",
       "    <tr style=\"text-align: right;\">\n",
       "      <th></th>\n",
       "      <th>ID</th>\n",
       "      <th>Title</th>\n",
       "      <th>Year</th>\n",
       "      <th>Age</th>\n",
       "      <th>IMDb</th>\n",
       "      <th>Netflix</th>\n",
       "      <th>Hulu</th>\n",
       "      <th>Prime Video</th>\n",
       "      <th>Disney+</th>\n",
       "      <th>Service</th>\n",
       "      <th>Directors</th>\n",
       "      <th>Type</th>\n",
       "    </tr>\n",
       "  </thead>\n",
       "  <tbody>\n",
       "    <tr>\n",
       "      <th>0</th>\n",
       "      <td>1</td>\n",
       "      <td>Inception</td>\n",
       "      <td>2010</td>\n",
       "      <td>13.0</td>\n",
       "      <td>8.8</td>\n",
       "      <td>1</td>\n",
       "      <td>0</td>\n",
       "      <td>0</td>\n",
       "      <td>0</td>\n",
       "      <td></td>\n",
       "      <td>Christopher Nolan</td>\n",
       "      <td>0</td>\n",
       "    </tr>\n",
       "    <tr>\n",
       "      <th>1</th>\n",
       "      <td>2</td>\n",
       "      <td>The Matrix</td>\n",
       "      <td>1999</td>\n",
       "      <td>18.0</td>\n",
       "      <td>8.7</td>\n",
       "      <td>1</td>\n",
       "      <td>0</td>\n",
       "      <td>0</td>\n",
       "      <td>0</td>\n",
       "      <td></td>\n",
       "      <td>Lana Wachowski,Lilly Wachowski</td>\n",
       "      <td>0</td>\n",
       "    </tr>\n",
       "    <tr>\n",
       "      <th>2</th>\n",
       "      <td>3</td>\n",
       "      <td>Avengers: Infinity War</td>\n",
       "      <td>2018</td>\n",
       "      <td>13.0</td>\n",
       "      <td>8.5</td>\n",
       "      <td>1</td>\n",
       "      <td>0</td>\n",
       "      <td>0</td>\n",
       "      <td>0</td>\n",
       "      <td></td>\n",
       "      <td>Anthony Russo,Joe Russo</td>\n",
       "      <td>0</td>\n",
       "    </tr>\n",
       "    <tr>\n",
       "      <th>3</th>\n",
       "      <td>4</td>\n",
       "      <td>Back to the Future</td>\n",
       "      <td>1985</td>\n",
       "      <td>7.0</td>\n",
       "      <td>8.5</td>\n",
       "      <td>1</td>\n",
       "      <td>0</td>\n",
       "      <td>0</td>\n",
       "      <td>0</td>\n",
       "      <td></td>\n",
       "      <td>Robert Zemeckis</td>\n",
       "      <td>0</td>\n",
       "    </tr>\n",
       "    <tr>\n",
       "      <th>4</th>\n",
       "      <td>5</td>\n",
       "      <td>The Good, the Bad and the Ugly</td>\n",
       "      <td>1966</td>\n",
       "      <td>18.0</td>\n",
       "      <td>8.8</td>\n",
       "      <td>1</td>\n",
       "      <td>0</td>\n",
       "      <td>1</td>\n",
       "      <td>0</td>\n",
       "      <td></td>\n",
       "      <td>Sergio Leone</td>\n",
       "      <td>0</td>\n",
       "    </tr>\n",
       "    <tr>\n",
       "      <th>...</th>\n",
       "      <td>...</td>\n",
       "      <td>...</td>\n",
       "      <td>...</td>\n",
       "      <td>...</td>\n",
       "      <td>...</td>\n",
       "      <td>...</td>\n",
       "      <td>...</td>\n",
       "      <td>...</td>\n",
       "      <td>...</td>\n",
       "      <td>...</td>\n",
       "      <td>...</td>\n",
       "      <td>...</td>\n",
       "    </tr>\n",
       "    <tr>\n",
       "      <th>16739</th>\n",
       "      <td>16740</td>\n",
       "      <td>The Ghosts of Buxley Hall</td>\n",
       "      <td>1980</td>\n",
       "      <td>NaN</td>\n",
       "      <td>6.2</td>\n",
       "      <td>0</td>\n",
       "      <td>0</td>\n",
       "      <td>0</td>\n",
       "      <td>1</td>\n",
       "      <td></td>\n",
       "      <td>Bruce Bilson</td>\n",
       "      <td>0</td>\n",
       "    </tr>\n",
       "    <tr>\n",
       "      <th>16740</th>\n",
       "      <td>16741</td>\n",
       "      <td>The Poof Point</td>\n",
       "      <td>2001</td>\n",
       "      <td>7.0</td>\n",
       "      <td>4.7</td>\n",
       "      <td>0</td>\n",
       "      <td>0</td>\n",
       "      <td>0</td>\n",
       "      <td>1</td>\n",
       "      <td></td>\n",
       "      <td>Neal Israel</td>\n",
       "      <td>0</td>\n",
       "    </tr>\n",
       "    <tr>\n",
       "      <th>16741</th>\n",
       "      <td>16742</td>\n",
       "      <td>Sharks of Lost Island</td>\n",
       "      <td>2013</td>\n",
       "      <td>NaN</td>\n",
       "      <td>5.7</td>\n",
       "      <td>0</td>\n",
       "      <td>0</td>\n",
       "      <td>0</td>\n",
       "      <td>1</td>\n",
       "      <td></td>\n",
       "      <td>Neil Gelinas</td>\n",
       "      <td>0</td>\n",
       "    </tr>\n",
       "    <tr>\n",
       "      <th>16742</th>\n",
       "      <td>16743</td>\n",
       "      <td>Man Among Cheetahs</td>\n",
       "      <td>2017</td>\n",
       "      <td>NaN</td>\n",
       "      <td>6.6</td>\n",
       "      <td>0</td>\n",
       "      <td>0</td>\n",
       "      <td>0</td>\n",
       "      <td>1</td>\n",
       "      <td></td>\n",
       "      <td>Richard Slater-Jones</td>\n",
       "      <td>0</td>\n",
       "    </tr>\n",
       "    <tr>\n",
       "      <th>16743</th>\n",
       "      <td>16744</td>\n",
       "      <td>In Beaver Valley</td>\n",
       "      <td>1950</td>\n",
       "      <td>NaN</td>\n",
       "      <td>NaN</td>\n",
       "      <td>0</td>\n",
       "      <td>0</td>\n",
       "      <td>0</td>\n",
       "      <td>1</td>\n",
       "      <td></td>\n",
       "      <td>James Algar</td>\n",
       "      <td>0</td>\n",
       "    </tr>\n",
       "  </tbody>\n",
       "</table>\n",
       "<p>16744 rows × 12 columns</p>\n",
       "</div>"
      ],
      "text/plain": [
       "          ID                           Title  Year   Age  IMDb  Netflix  Hulu  \\\n",
       "0          1                       Inception  2010  13.0   8.8        1     0   \n",
       "1          2                      The Matrix  1999  18.0   8.7        1     0   \n",
       "2          3          Avengers: Infinity War  2018  13.0   8.5        1     0   \n",
       "3          4              Back to the Future  1985   7.0   8.5        1     0   \n",
       "4          5  The Good, the Bad and the Ugly  1966  18.0   8.8        1     0   \n",
       "...      ...                             ...   ...   ...   ...      ...   ...   \n",
       "16739  16740       The Ghosts of Buxley Hall  1980   NaN   6.2        0     0   \n",
       "16740  16741                  The Poof Point  2001   7.0   4.7        0     0   \n",
       "16741  16742           Sharks of Lost Island  2013   NaN   5.7        0     0   \n",
       "16742  16743              Man Among Cheetahs  2017   NaN   6.6        0     0   \n",
       "16743  16744                In Beaver Valley  1950   NaN   NaN        0     0   \n",
       "\n",
       "       Prime Video  Disney+ Service                       Directors  Type  \n",
       "0                0        0                       Christopher Nolan     0  \n",
       "1                0        0          Lana Wachowski,Lilly Wachowski     0  \n",
       "2                0        0                 Anthony Russo,Joe Russo     0  \n",
       "3                0        0                         Robert Zemeckis     0  \n",
       "4                1        0                            Sergio Leone     0  \n",
       "...            ...      ...     ...                             ...   ...  \n",
       "16739            0        1                            Bruce Bilson     0  \n",
       "16740            0        1                             Neal Israel     0  \n",
       "16741            0        1                            Neil Gelinas     0  \n",
       "16742            0        1                    Richard Slater-Jones     0  \n",
       "16743            0        1                             James Algar     0  \n",
       "\n",
       "[16744 rows x 12 columns]"
      ]
     },
     "execution_count": 4,
     "metadata": {},
     "output_type": "execute_result"
    }
   ],
   "source": [
    "# add one more column for the type of streaming service\n",
    "df.insert(9,\"Service\",'',True)\n",
    "df"
   ]
  },
  {
   "cell_type": "code",
   "execution_count": 5,
   "metadata": {},
   "outputs": [],
   "source": [
    "service = []\n",
    "for index,row in df.iterrows():\n",
    "    if (row['Netflix'] == 1) & (row['Hulu'] == 0) & (row['Prime Video'] == 0) & (row['Disney+'] == 0):\n",
    "        service.append('Netflix')\n",
    "        \n",
    "    elif (row['Netflix'] == 0) & (row['Hulu'] == 1) & (row['Prime Video'] == 0) & (row['Disney+'] == 0):\n",
    "        service.append('Hulu')\n",
    "        \n",
    "    elif (row['Netflix'] == 0) & (row['Hulu'] == 0) & (row['Prime Video'] == 1) & (row['Disney+'] == 0):\n",
    "        service.append('Prime Video')\n",
    "        \n",
    "    elif (row['Netflix'] == 0) & (row['Hulu'] == 0) & (row['Prime Video'] == 0) & (row['Disney+'] == 1):\n",
    "        service.append('Disney+')\n",
    "    \n",
    "    else:\n",
    "        service.append(\"Multiple\")\n",
    "        \n",
    "df['Service'] = service\n"
   ]
  },
  {
   "cell_type": "code",
   "execution_count": 6,
   "metadata": {},
   "outputs": [
    {
     "data": {
      "text/html": [
       "<div>\n",
       "<style scoped>\n",
       "    .dataframe tbody tr th:only-of-type {\n",
       "        vertical-align: middle;\n",
       "    }\n",
       "\n",
       "    .dataframe tbody tr th {\n",
       "        vertical-align: top;\n",
       "    }\n",
       "\n",
       "    .dataframe thead th {\n",
       "        text-align: right;\n",
       "    }\n",
       "</style>\n",
       "<table border=\"1\" class=\"dataframe\">\n",
       "  <thead>\n",
       "    <tr style=\"text-align: right;\">\n",
       "      <th></th>\n",
       "      <th>ID</th>\n",
       "      <th>Title</th>\n",
       "      <th>Year</th>\n",
       "      <th>Age</th>\n",
       "      <th>IMDb</th>\n",
       "      <th>Netflix</th>\n",
       "      <th>Hulu</th>\n",
       "      <th>Prime Video</th>\n",
       "      <th>Disney+</th>\n",
       "      <th>Service</th>\n",
       "      <th>Directors</th>\n",
       "      <th>Type</th>\n",
       "    </tr>\n",
       "  </thead>\n",
       "  <tbody>\n",
       "    <tr>\n",
       "      <th>0</th>\n",
       "      <td>1</td>\n",
       "      <td>Inception</td>\n",
       "      <td>2010</td>\n",
       "      <td>13.0</td>\n",
       "      <td>8.8</td>\n",
       "      <td>1</td>\n",
       "      <td>0</td>\n",
       "      <td>0</td>\n",
       "      <td>0</td>\n",
       "      <td>Netflix</td>\n",
       "      <td>Christopher Nolan</td>\n",
       "      <td>0</td>\n",
       "    </tr>\n",
       "    <tr>\n",
       "      <th>1</th>\n",
       "      <td>2</td>\n",
       "      <td>The Matrix</td>\n",
       "      <td>1999</td>\n",
       "      <td>18.0</td>\n",
       "      <td>8.7</td>\n",
       "      <td>1</td>\n",
       "      <td>0</td>\n",
       "      <td>0</td>\n",
       "      <td>0</td>\n",
       "      <td>Netflix</td>\n",
       "      <td>Lana Wachowski,Lilly Wachowski</td>\n",
       "      <td>0</td>\n",
       "    </tr>\n",
       "    <tr>\n",
       "      <th>2</th>\n",
       "      <td>3</td>\n",
       "      <td>Avengers: Infinity War</td>\n",
       "      <td>2018</td>\n",
       "      <td>13.0</td>\n",
       "      <td>8.5</td>\n",
       "      <td>1</td>\n",
       "      <td>0</td>\n",
       "      <td>0</td>\n",
       "      <td>0</td>\n",
       "      <td>Netflix</td>\n",
       "      <td>Anthony Russo,Joe Russo</td>\n",
       "      <td>0</td>\n",
       "    </tr>\n",
       "    <tr>\n",
       "      <th>3</th>\n",
       "      <td>4</td>\n",
       "      <td>Back to the Future</td>\n",
       "      <td>1985</td>\n",
       "      <td>7.0</td>\n",
       "      <td>8.5</td>\n",
       "      <td>1</td>\n",
       "      <td>0</td>\n",
       "      <td>0</td>\n",
       "      <td>0</td>\n",
       "      <td>Netflix</td>\n",
       "      <td>Robert Zemeckis</td>\n",
       "      <td>0</td>\n",
       "    </tr>\n",
       "    <tr>\n",
       "      <th>4</th>\n",
       "      <td>5</td>\n",
       "      <td>The Good, the Bad and the Ugly</td>\n",
       "      <td>1966</td>\n",
       "      <td>18.0</td>\n",
       "      <td>8.8</td>\n",
       "      <td>1</td>\n",
       "      <td>0</td>\n",
       "      <td>1</td>\n",
       "      <td>0</td>\n",
       "      <td>Multiple</td>\n",
       "      <td>Sergio Leone</td>\n",
       "      <td>0</td>\n",
       "    </tr>\n",
       "  </tbody>\n",
       "</table>\n",
       "</div>"
      ],
      "text/plain": [
       "   ID                           Title  Year   Age  IMDb  Netflix  Hulu  \\\n",
       "0   1                       Inception  2010  13.0   8.8        1     0   \n",
       "1   2                      The Matrix  1999  18.0   8.7        1     0   \n",
       "2   3          Avengers: Infinity War  2018  13.0   8.5        1     0   \n",
       "3   4              Back to the Future  1985   7.0   8.5        1     0   \n",
       "4   5  The Good, the Bad and the Ugly  1966  18.0   8.8        1     0   \n",
       "\n",
       "   Prime Video  Disney+   Service                       Directors  Type  \n",
       "0            0        0   Netflix               Christopher Nolan     0  \n",
       "1            0        0   Netflix  Lana Wachowski,Lilly Wachowski     0  \n",
       "2            0        0   Netflix         Anthony Russo,Joe Russo     0  \n",
       "3            0        0   Netflix                 Robert Zemeckis     0  \n",
       "4            1        0  Multiple                    Sergio Leone     0  "
      ]
     },
     "execution_count": 6,
     "metadata": {},
     "output_type": "execute_result"
    }
   ],
   "source": [
    "df.head()"
   ]
  },
  {
   "cell_type": "code",
   "execution_count": 7,
   "metadata": {},
   "outputs": [
    {
     "data": {
      "text/plain": [
       "Prime Video    11758\n",
       "Netflix         3188\n",
       "Hulu             639\n",
       "Multiple         627\n",
       "Disney+          532\n",
       "Name: Service, dtype: int64"
      ]
     },
     "execution_count": 7,
     "metadata": {},
     "output_type": "execute_result"
    }
   ],
   "source": [
    "df.Service.value_counts()"
   ]
  },
  {
   "cell_type": "code",
   "execution_count": 8,
   "metadata": {},
   "outputs": [
    {
     "data": {
      "text/plain": [
       "12354"
      ]
     },
     "execution_count": 8,
     "metadata": {},
     "output_type": "execute_result"
    }
   ],
   "source": [
    "df['Prime Video'].sum()"
   ]
  },
  {
   "cell_type": "code",
   "execution_count": 9,
   "metadata": {},
   "outputs": [
    {
     "data": {
      "text/plain": [
       "Service\n",
       "Disney+        6.433333\n",
       "Hulu           6.152698\n",
       "Multiple       6.134084\n",
       "Netflix        6.265322\n",
       "Prime Video    5.752731\n",
       "Name: IMDb, dtype: float64"
      ]
     },
     "execution_count": 9,
     "metadata": {},
     "output_type": "execute_result"
    }
   ],
   "source": [
    "aveService = df.groupby('Service').IMDb.mean()\n",
    "aveService"
   ]
  },
  {
   "cell_type": "code",
   "execution_count": 10,
   "metadata": {},
   "outputs": [
    {
     "data": {
      "text/plain": [
       "0    16744\n",
       "Name: Type, dtype: int64"
      ]
     },
     "execution_count": 10,
     "metadata": {},
     "output_type": "execute_result"
    }
   ],
   "source": [
    "df.Type.value_counts()"
   ]
  },
  {
   "cell_type": "code",
   "execution_count": 11,
   "metadata": {},
   "outputs": [],
   "source": [
    "# Create the bins on Age column in which Data will be held  \n",
    "bins = [0,7, 13, 17, 99]\n",
    "\n",
    "# Create the names for the five bins\n",
    "group_names = [\"G\", \"PG\", \"PG-13\", \"R\"]"
   ]
  },
  {
   "cell_type": "code",
   "execution_count": 12,
   "metadata": {},
   "outputs": [
    {
     "data": {
      "text/html": [
       "<div>\n",
       "<style scoped>\n",
       "    .dataframe tbody tr th:only-of-type {\n",
       "        vertical-align: middle;\n",
       "    }\n",
       "\n",
       "    .dataframe tbody tr th {\n",
       "        vertical-align: top;\n",
       "    }\n",
       "\n",
       "    .dataframe thead th {\n",
       "        text-align: right;\n",
       "    }\n",
       "</style>\n",
       "<table border=\"1\" class=\"dataframe\">\n",
       "  <thead>\n",
       "    <tr style=\"text-align: right;\">\n",
       "      <th></th>\n",
       "      <th>ID</th>\n",
       "      <th>Title</th>\n",
       "      <th>Year</th>\n",
       "      <th>Age</th>\n",
       "      <th>IMDb</th>\n",
       "      <th>Netflix</th>\n",
       "      <th>Hulu</th>\n",
       "      <th>Prime Video</th>\n",
       "      <th>Disney+</th>\n",
       "      <th>Service</th>\n",
       "      <th>Directors</th>\n",
       "      <th>Type</th>\n",
       "      <th>Age Bin</th>\n",
       "    </tr>\n",
       "  </thead>\n",
       "  <tbody>\n",
       "    <tr>\n",
       "      <th>0</th>\n",
       "      <td>1</td>\n",
       "      <td>Inception</td>\n",
       "      <td>2010</td>\n",
       "      <td>13.0</td>\n",
       "      <td>8.8</td>\n",
       "      <td>1</td>\n",
       "      <td>0</td>\n",
       "      <td>0</td>\n",
       "      <td>0</td>\n",
       "      <td>Netflix</td>\n",
       "      <td>Christopher Nolan</td>\n",
       "      <td>0</td>\n",
       "      <td>PG</td>\n",
       "    </tr>\n",
       "    <tr>\n",
       "      <th>1</th>\n",
       "      <td>2</td>\n",
       "      <td>The Matrix</td>\n",
       "      <td>1999</td>\n",
       "      <td>18.0</td>\n",
       "      <td>8.7</td>\n",
       "      <td>1</td>\n",
       "      <td>0</td>\n",
       "      <td>0</td>\n",
       "      <td>0</td>\n",
       "      <td>Netflix</td>\n",
       "      <td>Lana Wachowski,Lilly Wachowski</td>\n",
       "      <td>0</td>\n",
       "      <td>R</td>\n",
       "    </tr>\n",
       "    <tr>\n",
       "      <th>2</th>\n",
       "      <td>3</td>\n",
       "      <td>Avengers: Infinity War</td>\n",
       "      <td>2018</td>\n",
       "      <td>13.0</td>\n",
       "      <td>8.5</td>\n",
       "      <td>1</td>\n",
       "      <td>0</td>\n",
       "      <td>0</td>\n",
       "      <td>0</td>\n",
       "      <td>Netflix</td>\n",
       "      <td>Anthony Russo,Joe Russo</td>\n",
       "      <td>0</td>\n",
       "      <td>PG</td>\n",
       "    </tr>\n",
       "    <tr>\n",
       "      <th>3</th>\n",
       "      <td>4</td>\n",
       "      <td>Back to the Future</td>\n",
       "      <td>1985</td>\n",
       "      <td>7.0</td>\n",
       "      <td>8.5</td>\n",
       "      <td>1</td>\n",
       "      <td>0</td>\n",
       "      <td>0</td>\n",
       "      <td>0</td>\n",
       "      <td>Netflix</td>\n",
       "      <td>Robert Zemeckis</td>\n",
       "      <td>0</td>\n",
       "      <td>G</td>\n",
       "    </tr>\n",
       "    <tr>\n",
       "      <th>4</th>\n",
       "      <td>5</td>\n",
       "      <td>The Good, the Bad and the Ugly</td>\n",
       "      <td>1966</td>\n",
       "      <td>18.0</td>\n",
       "      <td>8.8</td>\n",
       "      <td>1</td>\n",
       "      <td>0</td>\n",
       "      <td>1</td>\n",
       "      <td>0</td>\n",
       "      <td>Multiple</td>\n",
       "      <td>Sergio Leone</td>\n",
       "      <td>0</td>\n",
       "      <td>R</td>\n",
       "    </tr>\n",
       "    <tr>\n",
       "      <th>...</th>\n",
       "      <td>...</td>\n",
       "      <td>...</td>\n",
       "      <td>...</td>\n",
       "      <td>...</td>\n",
       "      <td>...</td>\n",
       "      <td>...</td>\n",
       "      <td>...</td>\n",
       "      <td>...</td>\n",
       "      <td>...</td>\n",
       "      <td>...</td>\n",
       "      <td>...</td>\n",
       "      <td>...</td>\n",
       "      <td>...</td>\n",
       "    </tr>\n",
       "    <tr>\n",
       "      <th>16739</th>\n",
       "      <td>16740</td>\n",
       "      <td>The Ghosts of Buxley Hall</td>\n",
       "      <td>1980</td>\n",
       "      <td>NaN</td>\n",
       "      <td>6.2</td>\n",
       "      <td>0</td>\n",
       "      <td>0</td>\n",
       "      <td>0</td>\n",
       "      <td>1</td>\n",
       "      <td>Disney+</td>\n",
       "      <td>Bruce Bilson</td>\n",
       "      <td>0</td>\n",
       "      <td>NaN</td>\n",
       "    </tr>\n",
       "    <tr>\n",
       "      <th>16740</th>\n",
       "      <td>16741</td>\n",
       "      <td>The Poof Point</td>\n",
       "      <td>2001</td>\n",
       "      <td>7.0</td>\n",
       "      <td>4.7</td>\n",
       "      <td>0</td>\n",
       "      <td>0</td>\n",
       "      <td>0</td>\n",
       "      <td>1</td>\n",
       "      <td>Disney+</td>\n",
       "      <td>Neal Israel</td>\n",
       "      <td>0</td>\n",
       "      <td>G</td>\n",
       "    </tr>\n",
       "    <tr>\n",
       "      <th>16741</th>\n",
       "      <td>16742</td>\n",
       "      <td>Sharks of Lost Island</td>\n",
       "      <td>2013</td>\n",
       "      <td>NaN</td>\n",
       "      <td>5.7</td>\n",
       "      <td>0</td>\n",
       "      <td>0</td>\n",
       "      <td>0</td>\n",
       "      <td>1</td>\n",
       "      <td>Disney+</td>\n",
       "      <td>Neil Gelinas</td>\n",
       "      <td>0</td>\n",
       "      <td>NaN</td>\n",
       "    </tr>\n",
       "    <tr>\n",
       "      <th>16742</th>\n",
       "      <td>16743</td>\n",
       "      <td>Man Among Cheetahs</td>\n",
       "      <td>2017</td>\n",
       "      <td>NaN</td>\n",
       "      <td>6.6</td>\n",
       "      <td>0</td>\n",
       "      <td>0</td>\n",
       "      <td>0</td>\n",
       "      <td>1</td>\n",
       "      <td>Disney+</td>\n",
       "      <td>Richard Slater-Jones</td>\n",
       "      <td>0</td>\n",
       "      <td>NaN</td>\n",
       "    </tr>\n",
       "    <tr>\n",
       "      <th>16743</th>\n",
       "      <td>16744</td>\n",
       "      <td>In Beaver Valley</td>\n",
       "      <td>1950</td>\n",
       "      <td>NaN</td>\n",
       "      <td>NaN</td>\n",
       "      <td>0</td>\n",
       "      <td>0</td>\n",
       "      <td>0</td>\n",
       "      <td>1</td>\n",
       "      <td>Disney+</td>\n",
       "      <td>James Algar</td>\n",
       "      <td>0</td>\n",
       "      <td>NaN</td>\n",
       "    </tr>\n",
       "  </tbody>\n",
       "</table>\n",
       "<p>16744 rows × 13 columns</p>\n",
       "</div>"
      ],
      "text/plain": [
       "          ID                           Title  Year   Age  IMDb  Netflix  Hulu  \\\n",
       "0          1                       Inception  2010  13.0   8.8        1     0   \n",
       "1          2                      The Matrix  1999  18.0   8.7        1     0   \n",
       "2          3          Avengers: Infinity War  2018  13.0   8.5        1     0   \n",
       "3          4              Back to the Future  1985   7.0   8.5        1     0   \n",
       "4          5  The Good, the Bad and the Ugly  1966  18.0   8.8        1     0   \n",
       "...      ...                             ...   ...   ...   ...      ...   ...   \n",
       "16739  16740       The Ghosts of Buxley Hall  1980   NaN   6.2        0     0   \n",
       "16740  16741                  The Poof Point  2001   7.0   4.7        0     0   \n",
       "16741  16742           Sharks of Lost Island  2013   NaN   5.7        0     0   \n",
       "16742  16743              Man Among Cheetahs  2017   NaN   6.6        0     0   \n",
       "16743  16744                In Beaver Valley  1950   NaN   NaN        0     0   \n",
       "\n",
       "       Prime Video  Disney+   Service                       Directors  Type  \\\n",
       "0                0        0   Netflix               Christopher Nolan     0   \n",
       "1                0        0   Netflix  Lana Wachowski,Lilly Wachowski     0   \n",
       "2                0        0   Netflix         Anthony Russo,Joe Russo     0   \n",
       "3                0        0   Netflix                 Robert Zemeckis     0   \n",
       "4                1        0  Multiple                    Sergio Leone     0   \n",
       "...            ...      ...       ...                             ...   ...   \n",
       "16739            0        1   Disney+                    Bruce Bilson     0   \n",
       "16740            0        1   Disney+                     Neal Israel     0   \n",
       "16741            0        1   Disney+                    Neil Gelinas     0   \n",
       "16742            0        1   Disney+            Richard Slater-Jones     0   \n",
       "16743            0        1   Disney+                     James Algar     0   \n",
       "\n",
       "      Age Bin  \n",
       "0          PG  \n",
       "1           R  \n",
       "2          PG  \n",
       "3           G  \n",
       "4           R  \n",
       "...       ...  \n",
       "16739     NaN  \n",
       "16740       G  \n",
       "16741     NaN  \n",
       "16742     NaN  \n",
       "16743     NaN  \n",
       "\n",
       "[16744 rows x 13 columns]"
      ]
     },
     "execution_count": 12,
     "metadata": {},
     "output_type": "execute_result"
    }
   ],
   "source": [
    "df[\"Age Bin\"] = pd.cut(df[\"Age\"], bins, labels=group_names, include_lowest=True)\n",
    "df"
   ]
  },
  {
   "cell_type": "markdown",
   "metadata": {},
   "source": [
    "# Bar charts between Age and Services"
   ]
  },
  {
   "cell_type": "code",
   "execution_count": 28,
   "metadata": {},
   "outputs": [
    {
     "data": {
      "image/png": "[encoded data removed]",
      "text/plain": [
       "<Figure size 720x432 with 1 Axes>"
      ]
     },
     "metadata": {
      "needs_background": "light"
     },
     "output_type": "display_data"
    }
   ],
   "source": [
    "net = df.loc[df.Service == \"Netflix\"]\n",
    "countAge = net.groupby(\"Age Bin\").size()\n",
    "#figsize\n",
    "plt.figure(figsize=(10,6))\n",
    "\n",
    "#raw plot\n",
    "plt.bar(countAge.index, countAge.values, color='#E50914', alpha=0.5, align=\"center\")\n",
    "\n",
    "\n",
    "# Give our chart some labels and a tile\n",
    "plt.title(\"Age Rating by Netflix\",fontweight=\"bold\", fontsize=20, name=\"Copperplate\")\n",
    "plt.xlabel(\"\",fontsize=16, name=\"Copperplate\")\n",
    "plt.ylabel(\"Counts of Movies\",fontsize=16, name=\"Copperplate\")\n",
    "\n",
    "#show/save\n",
    "plt.show()"
   ]
  },
  {
   "cell_type": "code",
   "execution_count": 50,
   "metadata": {},
   "outputs": [
    {
     "data": {
      "image/png": "[encoded data removed]",
      "text/plain": [
       "<Figure size 720x432 with 1 Axes>"
      ]
     },
     "metadata": {
      "needs_background": "light"
     },
     "output_type": "display_data"
    }
   ],
   "source": [
    "net = df.loc[df.Service == \"Hulu\"]\n",
    "countAge = net.groupby(\"Age Bin\").size()\n",
    "#figsize\n",
    "plt.figure(figsize=(10,6))\n",
    "\n",
    "#raw plot\n",
    "plt.bar(countAge.index, countAge.values, color='#3DBB3D', alpha=0.5, align=\"center\")\n",
    "\n",
    "\n",
    "# Give our chart some labels and a tile\n",
    "plt.title(\"Age Rating by Hulu\",fontweight=\"bold\", fontsize=20, name=\"Copperplate\")\n",
    "plt.xlabel(\"\",fontsize=16, name=\"Copperplate\")\n",
    "plt.ylabel(\"Counts of Movies\",fontsize=16, name=\"Copperplate\")\n",
    "\n",
    "#show/save\n",
    "plt.show()"
   ]
  },
  {
   "cell_type": "code",
   "execution_count": 49,
   "metadata": {},
   "outputs": [
    {
     "data": {
      "image/png": "[encoded data removed]",
      "text/plain": [
       "<Figure size 720x432 with 1 Axes>"
      ]
     },
     "metadata": {
      "needs_background": "light"
     },
     "output_type": "display_data"
    }
   ],
   "source": [
    "net = df.loc[df.Service == \"Prime Video\"]\n",
    "countAge = net.groupby(\"Age Bin\").size()\n",
    "#figsize\n",
    "plt.figure(figsize=(10,6))\n",
    "\n",
    "#raw plot\n",
    "plt.bar(countAge.index, countAge.values, color='#FF9900', alpha=0.5, align=\"center\")\n",
    "\n",
    "\n",
    "# Give our chart some labels and a tile\n",
    "plt.title(\"Age Rating by Prime Video\",fontweight=\"bold\", fontsize=20, name=\"Copperplate\")\n",
    "plt.xlabel(\"\",fontsize=16, name=\"Copperplate\")\n",
    "plt.ylabel(\"Counts of Movies\",fontsize=16, name=\"Copperplate\")\n",
    "\n",
    "#show/save\n",
    "plt.show()"
   ]
  },
  {
   "cell_type": "code",
   "execution_count": 48,
   "metadata": {},
   "outputs": [
    {
     "data": {
      "image/png": "[encoded data removed]",
      "text/plain": [
       "<Figure size 720x432 with 1 Axes>"
      ]
     },
     "metadata": {
      "needs_background": "light"
     },
     "output_type": "display_data"
    }
   ],
   "source": [
    "net = df.loc[df.Service == \"Disney+\"]\n",
    "countAge = net.groupby(\"Age Bin\").size()\n",
    "#figsize\n",
    "plt.figure(figsize=(10,6))\n",
    "\n",
    "#raw plot\n",
    "plt.bar(countAge.index, countAge.values, color='#006E99', alpha=0.5, align=\"center\")\n",
    "\n",
    "\n",
    "# Give our chart some labels and a tile\n",
    "plt.title(\"Age Rating by Disney+\",fontweight=\"bold\", fontsize=20, name=\"Copperplate\")\n",
    "plt.xlabel(\"\",fontsize=16, name=\"Copperplate\")\n",
    "plt.ylabel(\"Counts of Movies\",fontsize=16, name=\"Copperplate\")\n",
    "\n",
    "#show/save\n",
    "plt.show()"
   ]
  },
  {
   "cell_type": "markdown",
   "metadata": {},
   "source": [
    "# Bar charts between IMDb and Services\n"
   ]
  },
  {
   "cell_type": "code",
   "execution_count": 17,
   "metadata": {},
   "outputs": [
    {
     "data": {
      "text/plain": [
       "IMDb\n",
       "1.6     1\n",
       "2.4     1\n",
       "3.0     1\n",
       "3.3     1\n",
       "3.4     1\n",
       "4.0     1\n",
       "4.1     3\n",
       "4.2     3\n",
       "4.3     1\n",
       "4.5     2\n",
       "4.6     2\n",
       "4.7    10\n",
       "4.8     5\n",
       "4.9     5\n",
       "5.0    13\n",
       "5.1     7\n",
       "5.2     8\n",
       "5.3    11\n",
       "5.4    13\n",
       "5.5    13\n",
       "5.6    10\n",
       "5.7    12\n",
       "5.8    11\n",
       "5.9    21\n",
       "6.0    14\n",
       "6.1    20\n",
       "6.2    25\n",
       "6.3    17\n",
       "6.4    23\n",
       "6.5    28\n",
       "6.6    17\n",
       "6.7    24\n",
       "6.8    19\n",
       "6.9    25\n",
       "7.0    10\n",
       "7.1    14\n",
       "7.2    23\n",
       "7.3    23\n",
       "7.4    13\n",
       "7.5    13\n",
       "7.6    11\n",
       "7.7     8\n",
       "7.8    11\n",
       "7.9     4\n",
       "8.0    14\n",
       "8.1     5\n",
       "8.2     2\n",
       "8.3     5\n",
       "8.4     3\n",
       "8.5     2\n",
       "8.6     1\n",
       "8.7     1\n",
       "dtype: int64"
      ]
     },
     "execution_count": 17,
     "metadata": {},
     "output_type": "execute_result"
    }
   ],
   "source": [
    "countIMDb = net.groupby(\"IMDb\").size()\n",
    "countIMDb"
   ]
  },
  {
   "cell_type": "code",
   "execution_count": 47,
   "metadata": {},
   "outputs": [
    {
     "data": {
      "image/png": "[encoded data removed]",
      "text/plain": [
       "<Figure size 720x432 with 1 Axes>"
      ]
     },
     "metadata": {
      "needs_background": "light"
     },
     "output_type": "display_data"
    }
   ],
   "source": [
    "net = df.loc[df.Service == \"Netflix\"]\n",
    "countIMDb = net.groupby(\"IMDb\").size()\n",
    "\n",
    "#figsize\n",
    "plt.figure(figsize=(10,6))\n",
    "\n",
    "#raw plot\n",
    "plt.bar(countIMDb.index, countIMDb.values, color='#E50914', alpha=0.5, align=\"center\",width=0.1)\n",
    "\n",
    "\n",
    "# Give our chart some labels and a tile\n",
    "plt.title(\"Imdb Rating by Netflix\",fontweight=\"bold\", fontsize=20, name=\"Copperplate\")\n",
    "plt.xlabel(\"\",fontsize=16, name=\"Copperplate\")\n",
    "plt.ylabel(\"Counts of Movies\",fontsize=16, name=\"Copperplate\")\n",
    "\n",
    "#show/save\n",
    "plt.show()"
   ]
  },
  {
   "cell_type": "code",
   "execution_count": 46,
   "metadata": {},
   "outputs": [
    {
     "data": {
      "image/png": "[encoded data removed]",
      "text/plain": [
       "<Figure size 720x432 with 1 Axes>"
      ]
     },
     "metadata": {
      "needs_background": "light"
     },
     "output_type": "display_data"
    }
   ],
   "source": [
    "net = df.loc[df.Service == \"Hulu\"]\n",
    "countIMDb = net.groupby(\"IMDb\").size()\n",
    "\n",
    "#figsize\n",
    "plt.figure(figsize=(10,6))\n",
    "\n",
    "#raw plot\n",
    "plt.bar(countIMDb.index, countIMDb.values, color='#3DBB3D', alpha=0.5, align=\"center\",width=0.1)\n",
    "\n",
    "\n",
    "# Give our chart some labels and a tile\n",
    "plt.title(\"Imdb Rating by Hulu\",fontweight=\"bold\", fontsize=20, name=\"Copperplate\")\n",
    "plt.xlabel(\"\",fontsize=16, name=\"Copperplate\")\n",
    "plt.ylabel(\"Counts of Movies\",fontsize=16, name=\"Copperplate\")\n",
    "\n",
    "#show/save\n",
    "plt.show()"
   ]
  },
  {
   "cell_type": "code",
   "execution_count": 45,
   "metadata": {},
   "outputs": [
    {
     "data": {
      "image/png": "[encoded data removed]",
      "text/plain": [
       "<Figure size 720x432 with 1 Axes>"
      ]
     },
     "metadata": {
      "needs_background": "light"
     },
     "output_type": "display_data"
    }
   ],
   "source": [
    "net = df.loc[df.Service == \"Prime Video\"]\n",
    "countIMDb = net.groupby(\"IMDb\").size()\n",
    "\n",
    "#figsize\n",
    "plt.figure(figsize=(10,6))\n",
    "\n",
    "#raw plot\n",
    "plt.bar(countIMDb.index, countIMDb.values, color='#FF9900', alpha=0.5, align=\"center\",width=0.1)\n",
    "\n",
    "\n",
    "# Give our chart some labels and a tile\n",
    "plt.title(\"Imdb Rating by Prime Video\",fontweight=\"bold\", fontsize=20, name=\"Copperplate\")\n",
    "plt.xlabel(\"\",fontsize=16, name=\"Copperplate\")\n",
    "plt.ylabel(\"Counts of Movies\",fontsize=16, name=\"Copperplate\")\n",
    "\n",
    "#show/save\n",
    "plt.show()"
   ]
  },
  {
   "cell_type": "code",
   "execution_count": 44,
   "metadata": {},
   "outputs": [
    {
     "data": {
      "image/png": "[encoded data removed]",
      "text/plain": [
       "<Figure size 720x432 with 1 Axes>"
      ]
     },
     "metadata": {
      "needs_background": "light"
     },
     "output_type": "display_data"
    }
   ],
   "source": [
    "net = df.loc[df.Service == \"Disney+\"]\n",
    "countIMDb = net.groupby(\"IMDb\").size()\n",
    "\n",
    "#figsize\n",
    "plt.figure(figsize=(10,6))\n",
    "\n",
    "#raw plot\n",
    "plt.bar(countIMDb.index, countIMDb.values, color='#006E99', alpha=0.5, align=\"center\",width=0.1)\n",
    "\n",
    "\n",
    "# Give our chart some labels and a tile\n",
    "plt.title(\"Imdb Rating by Disney+\",fontweight=\"bold\", fontsize=20, name=\"Copperplate\")\n",
    "plt.xlabel(\"\",fontsize=16, name=\"Copperplate\")\n",
    "plt.ylabel(\"Counts of Movies\",fontsize=16, name=\"Copperplate\")\n",
    "\n",
    "#show/save\n",
    "plt.show()"
   ]
  },
  {
   "cell_type": "markdown",
   "metadata": {},
   "source": [
    "# Line Graphs Year vs Services"
   ]
  },
  {
   "cell_type": "code",
   "execution_count": 43,
   "metadata": {},
   "outputs": [
    {
     "data": {
      "image/png": "[encoded data removed]",
      "text/plain": [
       "<Figure size 432x288 with 1 Axes>"
      ]
     },
     "metadata": {
      "needs_background": "light"
     },
     "output_type": "display_data"
    }
   ],
   "source": [
    "net = df.loc[df.Service == \"Netflix\"]\n",
    "countYear = net.groupby(\"Year\").size()\n",
    "#figsize\n",
    "plt.plot(figsize=(10,6))\n",
    "\n",
    "#raw plot\n",
    "plt.plot(countYear.index, countYear.values, color='#E50914')\n",
    "\n",
    "\n",
    "# Give our chart some labels and a tile\n",
    "plt.title(\"Netflix Movies by Year\",fontweight=\"bold\", fontsize=20, name=\"Copperplate\")\n",
    "plt.xlabel(\"\",fontsize=16, name=\"Copperplate\")\n",
    "plt.ylabel(\"Counts of Movies\",fontsize=16, name=\"Copperplate\")\n",
    "\n",
    "#show/save\n",
    "plt.show()"
   ]
  },
  {
   "cell_type": "code",
   "execution_count": 42,
   "metadata": {},
   "outputs": [
    {
     "data": {
      "image/png": "[encoded data removed]",
      "text/plain": [
       "<Figure size 432x288 with 1 Axes>"
      ]
     },
     "metadata": {
      "needs_background": "light"
     },
     "output_type": "display_data"
    }
   ],
   "source": [
    "net = df.loc[df.Service == \"Hulu\"]\n",
    "countYear = net.groupby(\"Year\").size()\n",
    "#figsize\n",
    "plt.plot(figsize=(10,6))\n",
    "\n",
    "#raw plot\n",
    "plt.plot(countYear.index, countYear.values, color='#3DBB3D')\n",
    "\n",
    "\n",
    "# Give our chart some labels and a tile\n",
    "plt.title(\"Hulu Movies by Year\",fontweight=\"bold\", fontsize=20, name=\"Copperplate\")\n",
    "plt.xlabel(\"\",fontsize=16, name=\"Copperplate\")\n",
    "plt.ylabel(\"Counts of Movies\",fontsize=16, name=\"Copperplate\")\n",
    "\n",
    "#show/save\n",
    "plt.show()"
   ]
  },
  {
   "cell_type": "code",
   "execution_count": 41,
   "metadata": {},
   "outputs": [
    {
     "data": {
      "image/png": "[encoded data removed]",
      "text/plain": [
       "<Figure size 432x288 with 1 Axes>"
      ]
     },
     "metadata": {
      "needs_background": "light"
     },
     "output_type": "display_data"
    }
   ],
   "source": [
    "net = df.loc[df.Service == \"Prime Video\"]\n",
    "countYear = net.groupby(\"Year\").size()\n",
    "#figsize\n",
    "plt.plot(figsize=(10,6))\n",
    "\n",
    "#raw plot\n",
    "plt.plot(countYear.index, countYear.values, color='#FF9900')\n",
    "\n",
    "\n",
    "# Give our chart some labels and a tile\n",
    "plt.title(\"Prime Video Movies by Year\",fontweight=\"bold\", fontsize=20, name=\"Copperplate\")\n",
    "plt.xlabel(\"\",fontsize=16, name=\"Copperplate\")\n",
    "plt.ylabel(\"Counts of Movies\",fontsize=16, name=\"Copperplate\")\n",
    "\n",
    "#show/save\n",
    "plt.show()"
   ]
  },
  {
   "cell_type": "code",
   "execution_count": 40,
   "metadata": {},
   "outputs": [
    {
     "data": {
      "image/png": "[encoded data removed]",
      "text/plain": [
       "<Figure size 432x288 with 1 Axes>"
      ]
     },
     "metadata": {
      "needs_background": "light"
     },
     "output_type": "display_data"
    }
   ],
   "source": [
    "net = df.loc[df.Service == \"Disney+\"]\n",
    "countYear = net.groupby(\"Year\").size()\n",
    "#figsize\n",
    "plt.plot(figsize=(10,6))\n",
    "\n",
    "#raw plot\n",
    "plt.plot(countYear.index, countYear.values, color='#006E99')\n",
    "\n",
    "\n",
    "# Give our chart some labels and a title\n",
    "plt.title(\"Disney+ Movies by Year\",fontweight=\"bold\", fontsize=20, name=\"Copperplate\")\n",
    "plt.xlabel(\"\",fontsize=16, name=\"Copperplate\")\n",
    "plt.ylabel(\"Counts of Movies\",fontsize=16, name=\"Copperplate\")\n",
    "\n",
    "#show/save\n",
    "plt.show()"
   ]
  }
 ],
 "metadata": {
  "kernelspec": {
   "display_name": "Python 3",
   "language": "python",
   "name": "python3"
  },
  "language_info": {
   "codemirror_mode": {
    "name": "ipython",
    "version": 3
   },
   "file_extension": ".py",
   "mimetype": "text/x-python",
   "name": "python",
   "nbconvert_exporter": "python",
   "pygments_lexer": "ipython3",
   "version": "3.8.3"
  }
 },
 "nbformat": 4,
 "nbformat_minor": 4
}
