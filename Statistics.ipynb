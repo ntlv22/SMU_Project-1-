{
 "cells": [
  {
   "cell_type": "code",
   "execution_count": 1,
   "metadata": {},
   "outputs": [],
   "source": [
    "import pandas as pd\n",
    "import seaborn as sns\n",
    "import matplotlib.pyplot as plt\n",
    "import scipy.stats as stats\n",
    "from scipy.stats import linregress\n",
    "import numpy as np\n",
    "import statsmodels.api as sm"
   ]
  },
  {
   "cell_type": "code",
   "execution_count": 2,
   "metadata": {},
   "outputs": [],
   "source": [
    "#read the files\n",
    "\n",
    "file1 = \"Output/cleanTvshows.csv\"\n",
    "file2 = \"Output/cleanMovies.csv\"\n",
    "\n",
    "tv = pd.read_csv(file1)\n",
    "movies = pd.read_csv(file2)"
   ]
  },
  {
   "cell_type": "markdown",
   "metadata": {},
   "source": [
    "# TV Shows"
   ]
  },
  {
   "cell_type": "code",
   "execution_count": 3,
   "metadata": {},
   "outputs": [
    {
     "data": {
      "text/html": [
       "<div>\n",
       "<style scoped>\n",
       "    .dataframe tbody tr th:only-of-type {\n",
       "        vertical-align: middle;\n",
       "    }\n",
       "\n",
       "    .dataframe tbody tr th {\n",
       "        vertical-align: top;\n",
       "    }\n",
       "\n",
       "    .dataframe thead th {\n",
       "        text-align: right;\n",
       "    }\n",
       "</style>\n",
       "<table border=\"1\" class=\"dataframe\">\n",
       "  <thead>\n",
       "    <tr style=\"text-align: right;\">\n",
       "      <th></th>\n",
       "      <th>Title</th>\n",
       "      <th>Year</th>\n",
       "      <th>Age</th>\n",
       "      <th>IMDb</th>\n",
       "      <th>Netflix</th>\n",
       "      <th>Hulu</th>\n",
       "      <th>Prime Video</th>\n",
       "      <th>Disney+</th>\n",
       "      <th>type</th>\n",
       "    </tr>\n",
       "  </thead>\n",
       "  <tbody>\n",
       "    <tr>\n",
       "      <th>0</th>\n",
       "      <td>Breaking Bad</td>\n",
       "      <td>2008</td>\n",
       "      <td>18.0</td>\n",
       "      <td>9.5</td>\n",
       "      <td>1</td>\n",
       "      <td>0</td>\n",
       "      <td>0</td>\n",
       "      <td>0</td>\n",
       "      <td>1</td>\n",
       "    </tr>\n",
       "    <tr>\n",
       "      <th>1</th>\n",
       "      <td>Stranger Things</td>\n",
       "      <td>2016</td>\n",
       "      <td>16.0</td>\n",
       "      <td>8.8</td>\n",
       "      <td>1</td>\n",
       "      <td>0</td>\n",
       "      <td>0</td>\n",
       "      <td>0</td>\n",
       "      <td>1</td>\n",
       "    </tr>\n",
       "    <tr>\n",
       "      <th>2</th>\n",
       "      <td>Money Heist</td>\n",
       "      <td>2017</td>\n",
       "      <td>18.0</td>\n",
       "      <td>8.4</td>\n",
       "      <td>1</td>\n",
       "      <td>0</td>\n",
       "      <td>0</td>\n",
       "      <td>0</td>\n",
       "      <td>1</td>\n",
       "    </tr>\n",
       "    <tr>\n",
       "      <th>3</th>\n",
       "      <td>Sherlock</td>\n",
       "      <td>2010</td>\n",
       "      <td>16.0</td>\n",
       "      <td>9.1</td>\n",
       "      <td>1</td>\n",
       "      <td>0</td>\n",
       "      <td>0</td>\n",
       "      <td>0</td>\n",
       "      <td>1</td>\n",
       "    </tr>\n",
       "    <tr>\n",
       "      <th>4</th>\n",
       "      <td>Better Call Saul</td>\n",
       "      <td>2015</td>\n",
       "      <td>18.0</td>\n",
       "      <td>8.7</td>\n",
       "      <td>1</td>\n",
       "      <td>0</td>\n",
       "      <td>0</td>\n",
       "      <td>0</td>\n",
       "      <td>1</td>\n",
       "    </tr>\n",
       "  </tbody>\n",
       "</table>\n",
       "</div>"
      ],
      "text/plain": [
       "              Title  Year   Age  IMDb  Netflix  Hulu  Prime Video  Disney+  \\\n",
       "0      Breaking Bad  2008  18.0   9.5        1     0            0        0   \n",
       "1   Stranger Things  2016  16.0   8.8        1     0            0        0   \n",
       "2       Money Heist  2017  18.0   8.4        1     0            0        0   \n",
       "3          Sherlock  2010  16.0   9.1        1     0            0        0   \n",
       "4  Better Call Saul  2015  18.0   8.7        1     0            0        0   \n",
       "\n",
       "   type  \n",
       "0     1  \n",
       "1     1  \n",
       "2     1  \n",
       "3     1  \n",
       "4     1  "
      ]
     },
     "execution_count": 3,
     "metadata": {},
     "output_type": "execute_result"
    }
   ],
   "source": [
    "tv.head()"
   ]
  },
  {
   "cell_type": "code",
   "execution_count": 4,
   "metadata": {},
   "outputs": [],
   "source": [
    "service = []\n",
    "for index,row in tv.iterrows():\n",
    "    if (row['Netflix'] == 1) & (row['Hulu'] == 0) & (row['Prime Video'] == 0) & (row['Disney+'] == 0):\n",
    "        service.append('Netflix')\n",
    "    elif (row['Netflix'] == 0) & (row['Hulu'] == 1) & (row['Prime Video'] == 0) & (row['Disney+'] == 0):\n",
    "        service.append('Hulu')\n",
    "    elif (row['Netflix'] == 0) & (row['Hulu'] == 0) & (row['Prime Video'] == 1) & (row['Disney+'] == 0):\n",
    "        service.append('Prime Video')\n",
    "    elif (row['Netflix'] == 0) & (row['Hulu'] == 0) & (row['Prime Video'] == 0) & (row['Disney+'] == 1):\n",
    "        service.append('Disney+')\n",
    "    else:\n",
    "        service.append(\"Multiple\")\n",
    "tv['Service'] = service"
   ]
  },
  {
   "cell_type": "code",
   "execution_count": 5,
   "metadata": {},
   "outputs": [
    {
     "data": {
      "text/html": [
       "<div>\n",
       "<style scoped>\n",
       "    .dataframe tbody tr th:only-of-type {\n",
       "        vertical-align: middle;\n",
       "    }\n",
       "\n",
       "    .dataframe tbody tr th {\n",
       "        vertical-align: top;\n",
       "    }\n",
       "\n",
       "    .dataframe thead th {\n",
       "        text-align: right;\n",
       "    }\n",
       "</style>\n",
       "<table border=\"1\" class=\"dataframe\">\n",
       "  <thead>\n",
       "    <tr style=\"text-align: right;\">\n",
       "      <th></th>\n",
       "      <th>Title</th>\n",
       "      <th>Year</th>\n",
       "      <th>IMDb</th>\n",
       "      <th>Netflix</th>\n",
       "      <th>Hulu</th>\n",
       "      <th>Prime Video</th>\n",
       "      <th>Disney+</th>\n",
       "      <th>type</th>\n",
       "      <th>Service</th>\n",
       "    </tr>\n",
       "  </thead>\n",
       "  <tbody>\n",
       "    <tr>\n",
       "      <th>0</th>\n",
       "      <td>Breaking Bad</td>\n",
       "      <td>2008</td>\n",
       "      <td>9.5</td>\n",
       "      <td>1</td>\n",
       "      <td>0</td>\n",
       "      <td>0</td>\n",
       "      <td>0</td>\n",
       "      <td>1</td>\n",
       "      <td>Netflix</td>\n",
       "    </tr>\n",
       "    <tr>\n",
       "      <th>1</th>\n",
       "      <td>Stranger Things</td>\n",
       "      <td>2016</td>\n",
       "      <td>8.8</td>\n",
       "      <td>1</td>\n",
       "      <td>0</td>\n",
       "      <td>0</td>\n",
       "      <td>0</td>\n",
       "      <td>1</td>\n",
       "      <td>Netflix</td>\n",
       "    </tr>\n",
       "    <tr>\n",
       "      <th>2</th>\n",
       "      <td>Money Heist</td>\n",
       "      <td>2017</td>\n",
       "      <td>8.4</td>\n",
       "      <td>1</td>\n",
       "      <td>0</td>\n",
       "      <td>0</td>\n",
       "      <td>0</td>\n",
       "      <td>1</td>\n",
       "      <td>Netflix</td>\n",
       "    </tr>\n",
       "    <tr>\n",
       "      <th>3</th>\n",
       "      <td>Sherlock</td>\n",
       "      <td>2010</td>\n",
       "      <td>9.1</td>\n",
       "      <td>1</td>\n",
       "      <td>0</td>\n",
       "      <td>0</td>\n",
       "      <td>0</td>\n",
       "      <td>1</td>\n",
       "      <td>Netflix</td>\n",
       "    </tr>\n",
       "    <tr>\n",
       "      <th>4</th>\n",
       "      <td>Better Call Saul</td>\n",
       "      <td>2015</td>\n",
       "      <td>8.7</td>\n",
       "      <td>1</td>\n",
       "      <td>0</td>\n",
       "      <td>0</td>\n",
       "      <td>0</td>\n",
       "      <td>1</td>\n",
       "      <td>Netflix</td>\n",
       "    </tr>\n",
       "  </tbody>\n",
       "</table>\n",
       "</div>"
      ],
      "text/plain": [
       "              Title  Year  IMDb  Netflix  Hulu  Prime Video  Disney+  type  \\\n",
       "0      Breaking Bad  2008   9.5        1     0            0        0     1   \n",
       "1   Stranger Things  2016   8.8        1     0            0        0     1   \n",
       "2       Money Heist  2017   8.4        1     0            0        0     1   \n",
       "3          Sherlock  2010   9.1        1     0            0        0     1   \n",
       "4  Better Call Saul  2015   8.7        1     0            0        0     1   \n",
       "\n",
       "   Service  \n",
       "0  Netflix  \n",
       "1  Netflix  \n",
       "2  Netflix  \n",
       "3  Netflix  \n",
       "4  Netflix  "
      ]
     },
     "execution_count": 5,
     "metadata": {},
     "output_type": "execute_result"
    }
   ],
   "source": [
    "tv = tv.loc[:, ['Title', 'Year', 'IMDb', 'Netflix','Hulu','Prime Video','Disney+','type','Service']]\n",
    "tv = tv.dropna()\n",
    "tv.head()"
   ]
  },
  {
   "cell_type": "code",
   "execution_count": 6,
   "metadata": {},
   "outputs": [
    {
     "data": {
      "text/html": [
       "<div>\n",
       "<style scoped>\n",
       "    .dataframe tbody tr th:only-of-type {\n",
       "        vertical-align: middle;\n",
       "    }\n",
       "\n",
       "    .dataframe tbody tr th {\n",
       "        vertical-align: top;\n",
       "    }\n",
       "\n",
       "    .dataframe thead th {\n",
       "        text-align: right;\n",
       "    }\n",
       "</style>\n",
       "<table border=\"1\" class=\"dataframe\">\n",
       "  <thead>\n",
       "    <tr style=\"text-align: right;\">\n",
       "      <th></th>\n",
       "      <th>Total TV Shows</th>\n",
       "      <th>Average IMDb Score</th>\n",
       "      <th>Median IMDb Score</th>\n",
       "      <th>Variance of IMDb Score</th>\n",
       "      <th>St. Deviation of IMDb Score</th>\n",
       "      <th>St. Error IMDb Score</th>\n",
       "    </tr>\n",
       "    <tr>\n",
       "      <th>Service</th>\n",
       "      <th></th>\n",
       "      <th></th>\n",
       "      <th></th>\n",
       "      <th></th>\n",
       "      <th></th>\n",
       "      <th></th>\n",
       "    </tr>\n",
       "  </thead>\n",
       "  <tbody>\n",
       "    <tr>\n",
       "      <th>Disney+</th>\n",
       "      <td>146</td>\n",
       "      <td>6.910959</td>\n",
       "      <td>6.95</td>\n",
       "      <td>1.156569</td>\n",
       "      <td>1.075439</td>\n",
       "      <td>0.089004</td>\n",
       "    </tr>\n",
       "    <tr>\n",
       "      <th>Hulu</th>\n",
       "      <td>1251</td>\n",
       "      <td>6.992806</td>\n",
       "      <td>7.20</td>\n",
       "      <td>1.426124</td>\n",
       "      <td>1.194204</td>\n",
       "      <td>0.033764</td>\n",
       "    </tr>\n",
       "    <tr>\n",
       "      <th>Multiple</th>\n",
       "      <td>322</td>\n",
       "      <td>7.289441</td>\n",
       "      <td>7.50</td>\n",
       "      <td>1.379327</td>\n",
       "      <td>1.174448</td>\n",
       "      <td>0.065449</td>\n",
       "    </tr>\n",
       "    <tr>\n",
       "      <th>Netflix</th>\n",
       "      <td>1637</td>\n",
       "      <td>7.149786</td>\n",
       "      <td>7.30</td>\n",
       "      <td>1.167966</td>\n",
       "      <td>1.080725</td>\n",
       "      <td>0.026711</td>\n",
       "    </tr>\n",
       "    <tr>\n",
       "      <th>Prime Video</th>\n",
       "      <td>1094</td>\n",
       "      <td>7.171481</td>\n",
       "      <td>7.40</td>\n",
       "      <td>1.242205</td>\n",
       "      <td>1.114543</td>\n",
       "      <td>0.033697</td>\n",
       "    </tr>\n",
       "  </tbody>\n",
       "</table>\n",
       "</div>"
      ],
      "text/plain": [
       "             Total TV Shows  Average IMDb Score  Median IMDb Score  \\\n",
       "Service                                                              \n",
       "Disney+                 146            6.910959               6.95   \n",
       "Hulu                   1251            6.992806               7.20   \n",
       "Multiple                322            7.289441               7.50   \n",
       "Netflix                1637            7.149786               7.30   \n",
       "Prime Video            1094            7.171481               7.40   \n",
       "\n",
       "             Variance of IMDb Score  St. Deviation of IMDb Score  \\\n",
       "Service                                                            \n",
       "Disney+                    1.156569                     1.075439   \n",
       "Hulu                       1.426124                     1.194204   \n",
       "Multiple                   1.379327                     1.174448   \n",
       "Netflix                    1.167966                     1.080725   \n",
       "Prime Video                1.242205                     1.114543   \n",
       "\n",
       "             St. Error IMDb Score  \n",
       "Service                            \n",
       "Disney+                  0.089004  \n",
       "Hulu                     0.033764  \n",
       "Multiple                 0.065449  \n",
       "Netflix                  0.026711  \n",
       "Prime Video              0.033697  "
      ]
     },
     "execution_count": 6,
     "metadata": {},
     "output_type": "execute_result"
    }
   ],
   "source": [
    "tv_service = tv.groupby(\"Service\")\n",
    "\n",
    "tv_count = tv_service[\"IMDb\"].count()\n",
    "tv_avg = tv_service[\"IMDb\"].mean()\n",
    "tv_med = tv_service[\"IMDb\"].median()\n",
    "tv_var = tv_service[\"IMDb\"].var()\n",
    "tv_std = tv_service[\"IMDb\"].std()\n",
    "tv_sem = tv_service[\"IMDb\"].sem()\n",
    "\n",
    "#build dataframe\n",
    "summTable = pd.DataFrame()\n",
    "summTable[\"Total TV Shows\"] = tv_count\n",
    "summTable[\"Average IMDb Score\"] = tv_avg\n",
    "summTable[\"Median IMDb Score\"] = tv_med\n",
    "summTable[\"Variance of IMDb Score\"] = tv_var\n",
    "summTable[\"St. Deviation of IMDb Score\"] = tv_std\n",
    "summTable[\"St. Error IMDb Score\"] = tv_sem\n",
    "\n",
    "summTable"
   ]
  },
  {
   "cell_type": "code",
   "execution_count": 7,
   "metadata": {},
   "outputs": [
    {
     "data": {
      "image/png": "[encoded data removed]",
      "text/plain": [
       "<Figure size 432x288 with 1 Axes>"
      ]
     },
     "metadata": {
      "needs_background": "light"
     },
     "output_type": "display_data"
    }
   ],
   "source": [
    "# Make Boxplot\n",
    "my_pal = {\"Netflix\": \"#E50914\", \"Hulu\": \"#3DBB3D\", \"Prime Video\":\"#FF9900\", \"Disney+\":\"#006E99\",\"Multiple\":\"pink\"}\n",
    "\n",
    "sns.boxplot(x=\"Service\", y=\"IMDb\", data=tv,palette=my_pal, showmeans=True)\n",
    "\n",
    "\n",
    "# Give our chart some labels and a title\n",
    "plt.title(\"Boxplot of Imdb vs. Services\",fontweight =\"bold\",fontsize=20, name=\"Copperplate\" )\n",
    "plt.xlabel('Services',fontsize=16, name=\"Copperplate\")\n",
    "plt.ylabel('IMdb Rating',fontsize=16, name=\"Copperplate\")\n",
    "\n",
    "plt.show()"
   ]
  },
  {
   "cell_type": "code",
   "execution_count": 8,
   "metadata": {},
   "outputs": [
    {
     "data": {
      "image/png": "[encoded data removed]",
      "text/plain": [
       "<Figure size 432x288 with 1 Axes>"
      ]
     },
     "metadata": {
      "needs_background": "light"
     },
     "output_type": "display_data"
    }
   ],
   "source": [
    "# Make violin plot\n",
    "my_pal = {\"Netflix\": \"#E50914\", \"Hulu\": \"#3DBB3D\", \"Prime Video\":\"#FF9900\", \"Disney+\":\"#006E99\",\"Multiple\":\"pink\"}\n",
    "\n",
    "sns.violinplot(x=\"Service\", y=\"IMDb\", data=tv,palette=my_pal, showmeans=True)\n",
    "\n",
    "# Give our chart some labels and a title\n",
    "plt.title(\"Violin Plot of Imdb vs. Services\",fontweight =\"bold\",fontsize=20, name=\"Copperplate\" )\n",
    "plt.xlabel('Services',fontsize=16, name=\"Copperplate\")\n",
    "plt.ylabel('IMdb Rating',fontsize=16, name=\"Copperplate\")\n",
    "\n",
    "plt.show()"
   ]
  },
  {
   "cell_type": "code",
   "execution_count": 9,
   "metadata": {},
   "outputs": [],
   "source": [
    "# Extract individual groups\n",
    "group1 = tv[tv[\"Service\"] == \"Netflix\"][\"IMDb\"]\n",
    "group2 = tv[tv[\"Service\"] == \"Hulu\"][\"IMDb\"]\n",
    "group3 = tv[tv[\"Service\"] == \"Prime Video\"][\"IMDb\"]\n",
    "group4 = tv[tv[\"Service\"] == \"Disney+\"][\"IMDb\"]\n",
    "group5 = tv[tv[\"Service\"] == \"Multiple\"][\"IMDb\"]"
   ]
  },
  {
   "cell_type": "code",
   "execution_count": 10,
   "metadata": {},
   "outputs": [
    {
     "data": {
      "text/plain": [
       "F_onewayResult(statistic=7.701546310794659, pvalue=3.955907843985844e-05)"
      ]
     },
     "execution_count": 10,
     "metadata": {},
     "output_type": "execute_result"
    }
   ],
   "source": [
    "# ANOVA test\n",
    "stats.f_oneway(group1, group2, group3, group4)"
   ]
  },
  {
   "cell_type": "code",
   "execution_count": 11,
   "metadata": {},
   "outputs": [
    {
     "name": "stdout",
     "output_type": "stream",
     "text": [
      "Ttest_indResult(statistic=3.6463060547800894, pvalue=0.00027137441595873345)\n",
      "Ttest_indResult(statistic=-0.5045325817570749, pvalue=0.6139356461863421)\n",
      "Ttest_indResult(statistic=2.570089063461629, pvalue=0.011013958199669294)\n"
     ]
    }
   ],
   "source": [
    "# T-tests between Netflix versus others\n",
    "print(stats.ttest_ind(group1, group2, equal_var=False))\n",
    "print(stats.ttest_ind(group1, group3, equal_var=False))\n",
    "print(stats.ttest_ind(group1, group4, equal_var=False))"
   ]
  },
  {
   "cell_type": "code",
   "execution_count": 12,
   "metadata": {},
   "outputs": [
    {
     "name": "stdout",
     "output_type": "stream",
     "text": [
      "Ttest_indResult(statistic=-3.745669680387388, pvalue=0.00018427206685950345)\n",
      "Ttest_indResult(statistic=0.8597998243815425, pvalue=0.390987056685557)\n"
     ]
    }
   ],
   "source": [
    "# T-tests between Hulu versus others\n",
    "print(stats.ttest_ind(group2, group3, equal_var=False))\n",
    "print(stats.ttest_ind(group2, group4, equal_var=False))"
   ]
  },
  {
   "cell_type": "code",
   "execution_count": 13,
   "metadata": {},
   "outputs": [
    {
     "name": "stdout",
     "output_type": "stream",
     "text": [
      "Ttest_indResult(statistic=2.7374605550047564, pvalue=0.006782744991005879)\n"
     ]
    }
   ],
   "source": [
    "# T-tests between Prime Video versus Disney+\n",
    "print(stats.ttest_ind(group3, group4, equal_var=False))"
   ]
  },
  {
   "cell_type": "code",
   "execution_count": 14,
   "metadata": {},
   "outputs": [
    {
     "name": "stdout",
     "output_type": "stream",
     "text": [
      "y = -0.01x + 23.12\n",
      "The correlation between both factors is -0.08\n"
     ]
    },
    {
     "data": {
      "image/png": "[encoded data removed]",
      "text/plain": [
       "<Figure size 720x432 with 1 Axes>"
      ]
     },
     "metadata": {
      "needs_background": "light"
     },
     "output_type": "display_data"
    }
   ],
   "source": [
    "#Regression\n",
    "tv_year = tv.iloc[:,1]\n",
    "tv_imdb = tv.iloc[:,2]\n",
    "tv_correlation = stats.pearsonr(tv_year,tv_imdb)\n",
    "\n",
    "(slope, intercept, rvalue, pvalue, stderr) = linregress(tv_year,tv_imdb)\n",
    "\n",
    "\n",
    "regress_values = tv_year * slope + intercept\n",
    "line_eq = \"y = \" + str(round(slope,2)) + \"x + \" + str(round(intercept,2))\n",
    "print(line_eq)\n",
    "plt.figure(figsize = (10,6))\n",
    "plt.scatter(tv_year,tv_imdb,color=\"slateblue\")\n",
    "plt.plot(tv_year,regress_values,\"r-\")\n",
    "plt.annotate(line_eq,(1940,2),fontsize=15,color=\"red\")\n",
    "\n",
    "# Give our chart some labels and a title\n",
    "plt.title(\"IMDb by Years\",fontweight =\"bold\",fontsize=20, name=\"Copperplate\")\n",
    "plt.xlabel('Year')\n",
    "plt.ylabel('IMDb Rating')\n",
    "print(f\"The correlation between both factors is {round(tv_correlation[0],2)}\")\n",
    "\n",
    "plt.show()"
   ]
  },
  {
   "cell_type": "code",
   "execution_count": 15,
   "metadata": {},
   "outputs": [
    {
     "data": {
      "text/plain": [
       "Text(0.5, 1.0, 'CORRELATION MATRIX')"
      ]
     },
     "execution_count": 15,
     "metadata": {},
     "output_type": "execute_result"
    },
    {
     "data": {
      "image/png": "[encoded data removed]",
      "text/plain": [
       "<Figure size 432x288 with 2 Axes>"
      ]
     },
     "metadata": {
      "needs_background": "light"
     },
     "output_type": "display_data"
    }
   ],
   "source": [
    "corrs = tv.corr()\n",
    "sns.heatmap(corrs,cmap=\"BuPu\")\n",
    "title = 'CORRELATION MATRIX'\n",
    "plt.title(title, loc='center', fontsize=16, fontweight='bold', name=\"Copperplate\")"
   ]
  },
  {
   "cell_type": "code",
   "execution_count": 16,
   "metadata": {},
   "outputs": [
    {
     "data": {
      "text/html": [
       "<table class=\"simpletable\">\n",
       "<caption>OLS Regression Results</caption>\n",
       "<tr>\n",
       "  <th>Dep. Variable:</th>          <td>IMDb</td>       <th>  R-squared:         </th> <td>   0.012</td> \n",
       "</tr>\n",
       "<tr>\n",
       "  <th>Model:</th>                   <td>OLS</td>       <th>  Adj. R-squared:    </th> <td>   0.011</td> \n",
       "</tr>\n",
       "<tr>\n",
       "  <th>Method:</th>             <td>Least Squares</td>  <th>  F-statistic:       </th> <td>   11.16</td> \n",
       "</tr>\n",
       "<tr>\n",
       "  <th>Date:</th>             <td>Sun, 15 Nov 2020</td> <th>  Prob (F-statistic):</th> <td>1.05e-10</td> \n",
       "</tr>\n",
       "<tr>\n",
       "  <th>Time:</th>                 <td>21:42:40</td>     <th>  Log-Likelihood:    </th> <td> -6838.0</td> \n",
       "</tr>\n",
       "<tr>\n",
       "  <th>No. Observations:</th>      <td>  4450</td>      <th>  AIC:               </th> <td>1.369e+04</td>\n",
       "</tr>\n",
       "<tr>\n",
       "  <th>Df Residuals:</th>          <td>  4444</td>      <th>  BIC:               </th> <td>1.373e+04</td>\n",
       "</tr>\n",
       "<tr>\n",
       "  <th>Df Model:</th>              <td>     5</td>      <th>                     </th>     <td> </td>    \n",
       "</tr>\n",
       "<tr>\n",
       "  <th>Covariance Type:</th>      <td>nonrobust</td>    <th>                     </th>     <td> </td>    \n",
       "</tr>\n",
       "</table>\n",
       "<table class=\"simpletable\">\n",
       "<tr>\n",
       "       <td></td>          <th>coef</th>     <th>std err</th>      <th>t</th>      <th>P>|t|</th>  <th>[0.025</th>    <th>0.975]</th>  \n",
       "</tr>\n",
       "<tr>\n",
       "  <th>const</th>       <td>   24.5903</td> <td>    3.281</td> <td>    7.495</td> <td> 0.000</td> <td>   18.158</td> <td>   31.023</td>\n",
       "</tr>\n",
       "<tr>\n",
       "  <th>Year</th>        <td>   -0.0088</td> <td>    0.002</td> <td>   -5.389</td> <td> 0.000</td> <td>   -0.012</td> <td>   -0.006</td>\n",
       "</tr>\n",
       "<tr>\n",
       "  <th>Netflix</th>     <td>    0.2363</td> <td>    0.064</td> <td>    3.690</td> <td> 0.000</td> <td>    0.111</td> <td>    0.362</td>\n",
       "</tr>\n",
       "<tr>\n",
       "  <th>Hulu</th>        <td>    0.0613</td> <td>    0.061</td> <td>    0.999</td> <td> 0.318</td> <td>   -0.059</td> <td>    0.182</td>\n",
       "</tr>\n",
       "<tr>\n",
       "  <th>Prime Video</th> <td>    0.1720</td> <td>    0.064</td> <td>    2.696</td> <td> 0.007</td> <td>    0.047</td> <td>    0.297</td>\n",
       "</tr>\n",
       "<tr>\n",
       "  <th>Disney+</th>     <td>   -0.0494</td> <td>    0.104</td> <td>   -0.476</td> <td> 0.634</td> <td>   -0.253</td> <td>    0.154</td>\n",
       "</tr>\n",
       "</table>\n",
       "<table class=\"simpletable\">\n",
       "<tr>\n",
       "  <th>Omnibus:</th>       <td>900.314</td> <th>  Durbin-Watson:     </th> <td>   1.504</td>\n",
       "</tr>\n",
       "<tr>\n",
       "  <th>Prob(Omnibus):</th> <td> 0.000</td>  <th>  Jarque-Bera (JB):  </th> <td>1887.198</td>\n",
       "</tr>\n",
       "<tr>\n",
       "  <th>Skew:</th>          <td>-1.182</td>  <th>  Prob(JB):          </th> <td>    0.00</td>\n",
       "</tr>\n",
       "<tr>\n",
       "  <th>Kurtosis:</th>      <td> 5.142</td>  <th>  Cond. No.          </th> <td>3.91e+05</td>\n",
       "</tr>\n",
       "</table><br/><br/>Warnings:<br/>[1] Standard Errors assume that the covariance matrix of the errors is correctly specified.<br/>[2] The condition number is large, 3.91e+05. This might indicate that there are<br/>strong multicollinearity or other numerical problems."
      ],
      "text/plain": [
       "<class 'statsmodels.iolib.summary.Summary'>\n",
       "\"\"\"\n",
       "                            OLS Regression Results                            \n",
       "==============================================================================\n",
       "Dep. Variable:                   IMDb   R-squared:                       0.012\n",
       "Model:                            OLS   Adj. R-squared:                  0.011\n",
       "Method:                 Least Squares   F-statistic:                     11.16\n",
       "Date:                Sun, 15 Nov 2020   Prob (F-statistic):           1.05e-10\n",
       "Time:                        21:42:40   Log-Likelihood:                -6838.0\n",
       "No. Observations:                4450   AIC:                         1.369e+04\n",
       "Df Residuals:                    4444   BIC:                         1.373e+04\n",
       "Df Model:                           5                                         \n",
       "Covariance Type:            nonrobust                                         \n",
       "===============================================================================\n",
       "                  coef    std err          t      P>|t|      [0.025      0.975]\n",
       "-------------------------------------------------------------------------------\n",
       "const          24.5903      3.281      7.495      0.000      18.158      31.023\n",
       "Year           -0.0088      0.002     -5.389      0.000      -0.012      -0.006\n",
       "Netflix         0.2363      0.064      3.690      0.000       0.111       0.362\n",
       "Hulu            0.0613      0.061      0.999      0.318      -0.059       0.182\n",
       "Prime Video     0.1720      0.064      2.696      0.007       0.047       0.297\n",
       "Disney+        -0.0494      0.104     -0.476      0.634      -0.253       0.154\n",
       "==============================================================================\n",
       "Omnibus:                      900.314   Durbin-Watson:                   1.504\n",
       "Prob(Omnibus):                  0.000   Jarque-Bera (JB):             1887.198\n",
       "Skew:                          -1.182   Prob(JB):                         0.00\n",
       "Kurtosis:                       5.142   Cond. No.                     3.91e+05\n",
       "==============================================================================\n",
       "\n",
       "Warnings:\n",
       "[1] Standard Errors assume that the covariance matrix of the errors is correctly specified.\n",
       "[2] The condition number is large, 3.91e+05. This might indicate that there are\n",
       "strong multicollinearity or other numerical problems.\n",
       "\"\"\""
      ]
     },
     "execution_count": 16,
     "metadata": {},
     "output_type": "execute_result"
    }
   ],
   "source": [
    "feature = tv[['Year', 'Netflix', 'Hulu', 'Prime Video', 'Disney+']]\n",
    "target = tv[\"IMDb\"]\n",
    "X = sm.add_constant(feature)\n",
    "Y = target\n",
    "model = sm.OLS(Y,X)\n",
    "results = model.fit()\n",
    "results.summary()"
   ]
  },
  {
   "cell_type": "code",
   "execution_count": 17,
   "metadata": {},
   "outputs": [],
   "source": [
    "predictions = results.predict()\n",
    "residuals = Y - predictions"
   ]
  },
  {
   "cell_type": "code",
   "execution_count": 18,
   "metadata": {},
   "outputs": [
    {
     "data": {
      "image/png": "[encoded data removed]",
      "text/plain": [
       "<Figure size 432x288 with 1 Axes>"
      ]
     },
     "metadata": {
      "needs_background": "light"
     },
     "output_type": "display_data"
    }
   ],
   "source": [
    "plt.scatter(Y, predictions, color=\"slateblue\")\n",
    "plt.plot(Y,Y,color=\"r\")\n",
    "\n",
    "# Give our chart some labels and a title\n",
    "plt.title(\"Residual Plot of Prediction\",fontweight =\"bold\",fontsize=20, name=\"Copperplate\" )\n",
    "plt.xlabel('Actual Rating',fontsize=16, name=\"Copperplate\")\n",
    "plt.ylabel('Predicted Rating',fontsize=16, name=\"Copperplate\")\n",
    "\n",
    "plt.show()"
   ]
  },
  {
   "cell_type": "code",
   "execution_count": 19,
   "metadata": {},
   "outputs": [
    {
     "data": {
      "image/png": "[encoded data removed]",
      "text/plain": [
       "<Figure size 432x288 with 1 Axes>"
      ]
     },
     "metadata": {
      "needs_background": "light"
     },
     "output_type": "display_data"
    }
   ],
   "source": [
    "plt.scatter(predictions,residuals,color=\"slateblue\")\n",
    "\n",
    "# Give our chart some labels and a title\n",
    "plt.title(\"Residual Plot of Prediction\",fontweight =\"bold\",fontsize=20, name=\"Copperplate\" )\n",
    "plt.xlabel('Actual Rating',fontsize=16, name=\"Copperplate\")\n",
    "plt.ylabel('Predicted Rating',fontsize=16, name=\"Copperplate\")\n",
    "\n",
    "plt.show()"
   ]
  },
  {
   "cell_type": "markdown",
   "metadata": {},
   "source": [
    "# Movies"
   ]
  },
  {
   "cell_type": "code",
   "execution_count": 20,
   "metadata": {},
   "outputs": [
    {
     "data": {
      "text/html": [
       "<div>\n",
       "<style scoped>\n",
       "    .dataframe tbody tr th:only-of-type {\n",
       "        vertical-align: middle;\n",
       "    }\n",
       "\n",
       "    .dataframe tbody tr th {\n",
       "        vertical-align: top;\n",
       "    }\n",
       "\n",
       "    .dataframe thead th {\n",
       "        text-align: right;\n",
       "    }\n",
       "</style>\n",
       "<table border=\"1\" class=\"dataframe\">\n",
       "  <thead>\n",
       "    <tr style=\"text-align: right;\">\n",
       "      <th></th>\n",
       "      <th>ID</th>\n",
       "      <th>Title</th>\n",
       "      <th>Year</th>\n",
       "      <th>Age</th>\n",
       "      <th>IMDb</th>\n",
       "      <th>Netflix</th>\n",
       "      <th>Hulu</th>\n",
       "      <th>Prime Video</th>\n",
       "      <th>Disney+</th>\n",
       "      <th>Directors</th>\n",
       "      <th>Type</th>\n",
       "    </tr>\n",
       "  </thead>\n",
       "  <tbody>\n",
       "    <tr>\n",
       "      <th>0</th>\n",
       "      <td>1</td>\n",
       "      <td>Inception</td>\n",
       "      <td>2010</td>\n",
       "      <td>13.0</td>\n",
       "      <td>8.8</td>\n",
       "      <td>1</td>\n",
       "      <td>0</td>\n",
       "      <td>0</td>\n",
       "      <td>0</td>\n",
       "      <td>Christopher Nolan</td>\n",
       "      <td>0</td>\n",
       "    </tr>\n",
       "    <tr>\n",
       "      <th>1</th>\n",
       "      <td>2</td>\n",
       "      <td>The Matrix</td>\n",
       "      <td>1999</td>\n",
       "      <td>18.0</td>\n",
       "      <td>8.7</td>\n",
       "      <td>1</td>\n",
       "      <td>0</td>\n",
       "      <td>0</td>\n",
       "      <td>0</td>\n",
       "      <td>Lana Wachowski,Lilly Wachowski</td>\n",
       "      <td>0</td>\n",
       "    </tr>\n",
       "    <tr>\n",
       "      <th>2</th>\n",
       "      <td>3</td>\n",
       "      <td>Avengers: Infinity War</td>\n",
       "      <td>2018</td>\n",
       "      <td>13.0</td>\n",
       "      <td>8.5</td>\n",
       "      <td>1</td>\n",
       "      <td>0</td>\n",
       "      <td>0</td>\n",
       "      <td>0</td>\n",
       "      <td>Anthony Russo,Joe Russo</td>\n",
       "      <td>0</td>\n",
       "    </tr>\n",
       "    <tr>\n",
       "      <th>3</th>\n",
       "      <td>4</td>\n",
       "      <td>Back to the Future</td>\n",
       "      <td>1985</td>\n",
       "      <td>7.0</td>\n",
       "      <td>8.5</td>\n",
       "      <td>1</td>\n",
       "      <td>0</td>\n",
       "      <td>0</td>\n",
       "      <td>0</td>\n",
       "      <td>Robert Zemeckis</td>\n",
       "      <td>0</td>\n",
       "    </tr>\n",
       "    <tr>\n",
       "      <th>4</th>\n",
       "      <td>5</td>\n",
       "      <td>The Good, the Bad and the Ugly</td>\n",
       "      <td>1966</td>\n",
       "      <td>18.0</td>\n",
       "      <td>8.8</td>\n",
       "      <td>1</td>\n",
       "      <td>0</td>\n",
       "      <td>1</td>\n",
       "      <td>0</td>\n",
       "      <td>Sergio Leone</td>\n",
       "      <td>0</td>\n",
       "    </tr>\n",
       "  </tbody>\n",
       "</table>\n",
       "</div>"
      ],
      "text/plain": [
       "   ID                           Title  Year   Age  IMDb  Netflix  Hulu  \\\n",
       "0   1                       Inception  2010  13.0   8.8        1     0   \n",
       "1   2                      The Matrix  1999  18.0   8.7        1     0   \n",
       "2   3          Avengers: Infinity War  2018  13.0   8.5        1     0   \n",
       "3   4              Back to the Future  1985   7.0   8.5        1     0   \n",
       "4   5  The Good, the Bad and the Ugly  1966  18.0   8.8        1     0   \n",
       "\n",
       "   Prime Video  Disney+                       Directors  Type  \n",
       "0            0        0               Christopher Nolan     0  \n",
       "1            0        0  Lana Wachowski,Lilly Wachowski     0  \n",
       "2            0        0         Anthony Russo,Joe Russo     0  \n",
       "3            0        0                 Robert Zemeckis     0  \n",
       "4            1        0                    Sergio Leone     0  "
      ]
     },
     "execution_count": 20,
     "metadata": {},
     "output_type": "execute_result"
    }
   ],
   "source": [
    "movies.head()"
   ]
  },
  {
   "cell_type": "code",
   "execution_count": 21,
   "metadata": {},
   "outputs": [],
   "source": [
    "service = []\n",
    "for index,row in movies.iterrows():\n",
    "    if (row['Netflix'] == 1) & (row['Hulu'] == 0) & (row['Prime Video'] == 0) & (row['Disney+'] == 0):\n",
    "        service.append('Netflix')\n",
    "    elif (row['Netflix'] == 0) & (row['Hulu'] == 1) & (row['Prime Video'] == 0) & (row['Disney+'] == 0):\n",
    "        service.append('Hulu')\n",
    "    elif (row['Netflix'] == 0) & (row['Hulu'] == 0) & (row['Prime Video'] == 1) & (row['Disney+'] == 0):\n",
    "        service.append('Prime Video')\n",
    "    elif (row['Netflix'] == 0) & (row['Hulu'] == 0) & (row['Prime Video'] == 0) & (row['Disney+'] == 1):\n",
    "        service.append('Disney+')\n",
    "    else:\n",
    "        service.append(\"Multiple\")\n",
    "movies['Service'] = service"
   ]
  },
  {
   "cell_type": "code",
   "execution_count": 22,
   "metadata": {},
   "outputs": [
    {
     "data": {
      "text/html": [
       "<div>\n",
       "<style scoped>\n",
       "    .dataframe tbody tr th:only-of-type {\n",
       "        vertical-align: middle;\n",
       "    }\n",
       "\n",
       "    .dataframe tbody tr th {\n",
       "        vertical-align: top;\n",
       "    }\n",
       "\n",
       "    .dataframe thead th {\n",
       "        text-align: right;\n",
       "    }\n",
       "</style>\n",
       "<table border=\"1\" class=\"dataframe\">\n",
       "  <thead>\n",
       "    <tr style=\"text-align: right;\">\n",
       "      <th></th>\n",
       "      <th>Title</th>\n",
       "      <th>Year</th>\n",
       "      <th>IMDb</th>\n",
       "      <th>Netflix</th>\n",
       "      <th>Hulu</th>\n",
       "      <th>Prime Video</th>\n",
       "      <th>Disney+</th>\n",
       "      <th>Type</th>\n",
       "      <th>Service</th>\n",
       "    </tr>\n",
       "  </thead>\n",
       "  <tbody>\n",
       "    <tr>\n",
       "      <th>0</th>\n",
       "      <td>Inception</td>\n",
       "      <td>2010</td>\n",
       "      <td>8.8</td>\n",
       "      <td>1</td>\n",
       "      <td>0</td>\n",
       "      <td>0</td>\n",
       "      <td>0</td>\n",
       "      <td>0</td>\n",
       "      <td>Netflix</td>\n",
       "    </tr>\n",
       "    <tr>\n",
       "      <th>1</th>\n",
       "      <td>The Matrix</td>\n",
       "      <td>1999</td>\n",
       "      <td>8.7</td>\n",
       "      <td>1</td>\n",
       "      <td>0</td>\n",
       "      <td>0</td>\n",
       "      <td>0</td>\n",
       "      <td>0</td>\n",
       "      <td>Netflix</td>\n",
       "    </tr>\n",
       "    <tr>\n",
       "      <th>2</th>\n",
       "      <td>Avengers: Infinity War</td>\n",
       "      <td>2018</td>\n",
       "      <td>8.5</td>\n",
       "      <td>1</td>\n",
       "      <td>0</td>\n",
       "      <td>0</td>\n",
       "      <td>0</td>\n",
       "      <td>0</td>\n",
       "      <td>Netflix</td>\n",
       "    </tr>\n",
       "    <tr>\n",
       "      <th>3</th>\n",
       "      <td>Back to the Future</td>\n",
       "      <td>1985</td>\n",
       "      <td>8.5</td>\n",
       "      <td>1</td>\n",
       "      <td>0</td>\n",
       "      <td>0</td>\n",
       "      <td>0</td>\n",
       "      <td>0</td>\n",
       "      <td>Netflix</td>\n",
       "    </tr>\n",
       "    <tr>\n",
       "      <th>4</th>\n",
       "      <td>The Good, the Bad and the Ugly</td>\n",
       "      <td>1966</td>\n",
       "      <td>8.8</td>\n",
       "      <td>1</td>\n",
       "      <td>0</td>\n",
       "      <td>1</td>\n",
       "      <td>0</td>\n",
       "      <td>0</td>\n",
       "      <td>Multiple</td>\n",
       "    </tr>\n",
       "  </tbody>\n",
       "</table>\n",
       "</div>"
      ],
      "text/plain": [
       "                            Title  Year  IMDb  Netflix  Hulu  Prime Video  \\\n",
       "0                       Inception  2010   8.8        1     0            0   \n",
       "1                      The Matrix  1999   8.7        1     0            0   \n",
       "2          Avengers: Infinity War  2018   8.5        1     0            0   \n",
       "3              Back to the Future  1985   8.5        1     0            0   \n",
       "4  The Good, the Bad and the Ugly  1966   8.8        1     0            1   \n",
       "\n",
       "   Disney+  Type   Service  \n",
       "0        0     0   Netflix  \n",
       "1        0     0   Netflix  \n",
       "2        0     0   Netflix  \n",
       "3        0     0   Netflix  \n",
       "4        0     0  Multiple  "
      ]
     },
     "execution_count": 22,
     "metadata": {},
     "output_type": "execute_result"
    }
   ],
   "source": [
    "movies = movies.loc[:, ['Title', 'Year', 'IMDb', 'Netflix','Hulu','Prime Video','Disney+','Type','Service']]\n",
    "movies = movies.dropna()\n",
    "movies.head()"
   ]
  },
  {
   "cell_type": "code",
   "execution_count": 23,
   "metadata": {},
   "outputs": [
    {
     "data": {
      "text/html": [
       "<div>\n",
       "<style scoped>\n",
       "    .dataframe tbody tr th:only-of-type {\n",
       "        vertical-align: middle;\n",
       "    }\n",
       "\n",
       "    .dataframe tbody tr th {\n",
       "        vertical-align: top;\n",
       "    }\n",
       "\n",
       "    .dataframe thead th {\n",
       "        text-align: right;\n",
       "    }\n",
       "</style>\n",
       "<table border=\"1\" class=\"dataframe\">\n",
       "  <thead>\n",
       "    <tr style=\"text-align: right;\">\n",
       "      <th></th>\n",
       "      <th>Total Movies</th>\n",
       "      <th>Average IMDb Score</th>\n",
       "      <th>Median IMDb Score</th>\n",
       "      <th>Variance of IMDb Score</th>\n",
       "      <th>St. Deviation of IMDb Score</th>\n",
       "      <th>St. Error IMDb Score</th>\n",
       "    </tr>\n",
       "    <tr>\n",
       "      <th>Service</th>\n",
       "      <th></th>\n",
       "      <th></th>\n",
       "      <th></th>\n",
       "      <th></th>\n",
       "      <th></th>\n",
       "      <th></th>\n",
       "    </tr>\n",
       "  </thead>\n",
       "  <tbody>\n",
       "    <tr>\n",
       "      <th>Disney+</th>\n",
       "      <td>531</td>\n",
       "      <td>6.433333</td>\n",
       "      <td>6.5</td>\n",
       "      <td>1.016679</td>\n",
       "      <td>1.008305</td>\n",
       "      <td>0.043757</td>\n",
       "    </tr>\n",
       "    <tr>\n",
       "      <th>Hulu</th>\n",
       "      <td>630</td>\n",
       "      <td>6.152698</td>\n",
       "      <td>6.2</td>\n",
       "      <td>1.298999</td>\n",
       "      <td>1.139736</td>\n",
       "      <td>0.045408</td>\n",
       "    </tr>\n",
       "    <tr>\n",
       "      <th>Multiple</th>\n",
       "      <td>622</td>\n",
       "      <td>6.134084</td>\n",
       "      <td>6.2</td>\n",
       "      <td>1.368112</td>\n",
       "      <td>1.169663</td>\n",
       "      <td>0.046899</td>\n",
       "    </tr>\n",
       "    <tr>\n",
       "      <th>Netflix</th>\n",
       "      <td>3074</td>\n",
       "      <td>6.265322</td>\n",
       "      <td>6.4</td>\n",
       "      <td>1.277385</td>\n",
       "      <td>1.130214</td>\n",
       "      <td>0.020385</td>\n",
       "    </tr>\n",
       "    <tr>\n",
       "      <th>Prime Video</th>\n",
       "      <td>11316</td>\n",
       "      <td>5.752731</td>\n",
       "      <td>5.9</td>\n",
       "      <td>1.976898</td>\n",
       "      <td>1.406022</td>\n",
       "      <td>0.013217</td>\n",
       "    </tr>\n",
       "  </tbody>\n",
       "</table>\n",
       "</div>"
      ],
      "text/plain": [
       "             Total Movies  Average IMDb Score  Median IMDb Score  \\\n",
       "Service                                                            \n",
       "Disney+               531            6.433333                6.5   \n",
       "Hulu                  630            6.152698                6.2   \n",
       "Multiple              622            6.134084                6.2   \n",
       "Netflix              3074            6.265322                6.4   \n",
       "Prime Video         11316            5.752731                5.9   \n",
       "\n",
       "             Variance of IMDb Score  St. Deviation of IMDb Score  \\\n",
       "Service                                                            \n",
       "Disney+                    1.016679                     1.008305   \n",
       "Hulu                       1.298999                     1.139736   \n",
       "Multiple                   1.368112                     1.169663   \n",
       "Netflix                    1.277385                     1.130214   \n",
       "Prime Video                1.976898                     1.406022   \n",
       "\n",
       "             St. Error IMDb Score  \n",
       "Service                            \n",
       "Disney+                  0.043757  \n",
       "Hulu                     0.045408  \n",
       "Multiple                 0.046899  \n",
       "Netflix                  0.020385  \n",
       "Prime Video              0.013217  "
      ]
     },
     "execution_count": 23,
     "metadata": {},
     "output_type": "execute_result"
    }
   ],
   "source": [
    "movie_service = movies.groupby(\"Service\")\n",
    "\n",
    "movie_count = movie_service[\"IMDb\"].count()\n",
    "movie_avg = movie_service[\"IMDb\"].mean()\n",
    "movie_med = movie_service[\"IMDb\"].median()\n",
    "movie_var = movie_service[\"IMDb\"].var()\n",
    "movie_std = movie_service[\"IMDb\"].std()\n",
    "movie_sem = movie_service[\"IMDb\"].sem()\n",
    "\n",
    "#build dataframe\n",
    "summTable = pd.DataFrame()\n",
    "summTable[\"Total Movies\"] = movie_count\n",
    "summTable[\"Average IMDb Score\"] = movie_avg\n",
    "summTable[\"Median IMDb Score\"] = movie_med\n",
    "summTable[\"Variance of IMDb Score\"] = movie_var\n",
    "summTable[\"St. Deviation of IMDb Score\"] = movie_std\n",
    "summTable[\"St. Error IMDb Score\"] = movie_sem\n",
    "\n",
    "summTable"
   ]
  },
  {
   "cell_type": "code",
   "execution_count": 24,
   "metadata": {},
   "outputs": [
    {
     "data": {
      "image/png": "[encoded data removed]",
      "text/plain": [
       "<Figure size 432x288 with 1 Axes>"
      ]
     },
     "metadata": {
      "needs_background": "light"
     },
     "output_type": "display_data"
    }
   ],
   "source": [
    "# Make Boxplot\n",
    "my_pal = {\"Netflix\": \"#E50914\", \"Hulu\": \"#3DBB3D\", \"Prime Video\":\"#FF9900\", \"Disney+\":\"#006E99\",\"Multiple\":\"pink\"}\n",
    "\n",
    "sns.boxplot(x=\"Service\", y=\"IMDb\", data=movies,palette=my_pal, showmeans=True)\n",
    "\n",
    "# Give our chart some labels and a title\n",
    "plt.title(\"Boxplot of Imdb vs. Services\",fontweight =\"bold\",fontsize=20, name=\"Copperplate\" )\n",
    "plt.xlabel('Services',fontsize=16, name=\"Copperplate\")\n",
    "plt.ylabel('IMdb Rating',fontsize=16, name=\"Copperplate\")\n",
    "\n",
    "plt.show()"
   ]
  },
  {
   "cell_type": "code",
   "execution_count": 25,
   "metadata": {},
   "outputs": [
    {
     "data": {
      "image/png": "[encoded data removed]",
      "text/plain": [
       "<Figure size 432x288 with 1 Axes>"
      ]
     },
     "metadata": {
      "needs_background": "light"
     },
     "output_type": "display_data"
    }
   ],
   "source": [
    "# Make Violin plot\n",
    "my_pal = {\"Netflix\": \"#E50914\", \"Hulu\": \"#3DBB3D\", \"Prime Video\":\"#FF9900\", \"Disney+\":\"#006E99\",\"Multiple\":\"pink\"}\n",
    "\n",
    "sns.violinplot(x=\"Service\", y=\"IMDb\", data=movies,palette=my_pal, showmeans=True)\n",
    "\n",
    "# Give our chart some labels and a title\n",
    "plt.title(\"Violin Plot of Imdb vs. Services\",fontweight =\"bold\",fontsize=20, name=\"Copperplate\" )\n",
    "plt.xlabel('Services',fontsize=16, name=\"Copperplate\")\n",
    "plt.ylabel('IMdb Rating',fontsize=16, name=\"Copperplate\")\n",
    "\n",
    "plt.show()"
   ]
  },
  {
   "cell_type": "code",
   "execution_count": 26,
   "metadata": {},
   "outputs": [],
   "source": [
    "# Extract individual groups\n",
    "group1 = movies[movies[\"Service\"] == \"Netflix\"][\"IMDb\"]\n",
    "group2 = movies[movies[\"Service\"] == \"Hulu\"][\"IMDb\"]\n",
    "group3 = movies[movies[\"Service\"] == \"Prime Video\"][\"IMDb\"]\n",
    "group4 = movies[movies[\"Service\"] == \"Disney+\"][\"IMDb\"]\n",
    "group5 = movies[movies[\"Service\"] == \"Multiple\"][\"IMDb\"]"
   ]
  },
  {
   "cell_type": "code",
   "execution_count": 27,
   "metadata": {},
   "outputs": [
    {
     "data": {
      "text/plain": [
       "F_onewayResult(statistic=158.6179780816189, pvalue=2.8476530893126106e-101)"
      ]
     },
     "execution_count": 27,
     "metadata": {},
     "output_type": "execute_result"
    }
   ],
   "source": [
    "# ANOVA Test\n",
    "stats.f_oneway(group1, group2, group3, group4)"
   ]
  },
  {
   "cell_type": "code",
   "execution_count": 28,
   "metadata": {},
   "outputs": [
    {
     "name": "stdout",
     "output_type": "stream",
     "text": [
      "Ttest_indResult(statistic=2.2627016336457446, pvalue=0.02389154620399159)\n",
      "Ttest_indResult(statistic=21.098688237131842, pvalue=2.4683702188657623e-95)\n",
      "Ttest_indResult(statistic=-3.480505317767598, pvalue=0.0005283213896018931)\n"
     ]
    }
   ],
   "source": [
    "# T-tests between Netflix versus others\n",
    "print(stats.ttest_ind(group1, group2, equal_var=False))\n",
    "print(stats.ttest_ind(group1, group3, equal_var=False))\n",
    "print(stats.ttest_ind(group1, group4, equal_var=False))"
   ]
  },
  {
   "cell_type": "code",
   "execution_count": 29,
   "metadata": {},
   "outputs": [
    {
     "name": "stdout",
     "output_type": "stream",
     "text": [
      "Ttest_indResult(statistic=8.457277318492029, pvalue=1.4549328759689867e-16)\n",
      "Ttest_indResult(statistic=-4.450289858269554, pvalue=9.403602923708048e-06)\n"
     ]
    }
   ],
   "source": [
    "# T-tests between Hulu versus others\n",
    "print(stats.ttest_ind(group2, group3, equal_var=False))\n",
    "print(stats.ttest_ind(group2, group4, equal_var=False))"
   ]
  },
  {
   "cell_type": "code",
   "execution_count": 30,
   "metadata": {},
   "outputs": [
    {
     "name": "stdout",
     "output_type": "stream",
     "text": [
      "Ttest_indResult(statistic=-14.889773928295442, pvalue=3.4320512233361647e-43)\n"
     ]
    }
   ],
   "source": [
    "# T-tests between Prime Video versus Disney+\n",
    "print(stats.ttest_ind(group3, group4, equal_var=False))"
   ]
  },
  {
   "cell_type": "code",
   "execution_count": 31,
   "metadata": {},
   "outputs": [
    {
     "name": "stdout",
     "output_type": "stream",
     "text": [
      "y = -0.0x + 8.64\n",
      "The correlation between both factors is -0.02\n"
     ]
    },
    {
     "data": {
      "image/png": "[encoded data removed]",
      "text/plain": [
       "<Figure size 720x432 with 1 Axes>"
      ]
     },
     "metadata": {
      "needs_background": "light"
     },
     "output_type": "display_data"
    }
   ],
   "source": [
    "# Regression\n",
    "movie_year = movies.iloc[:,1]\n",
    "movie_imdb = movies.iloc[:,2]\n",
    "movie_correlation = stats.pearsonr(movie_year,movie_imdb)\n",
    "\n",
    "(slope, intercept, rvalue, pvalue, stderr) = linregress(movie_year,movie_imdb)\n",
    "\n",
    "\n",
    "regress_values = movie_year * slope + intercept\n",
    "line_eq = \"y = \" + str(round(slope,2)) + \"x + \" + str(round(intercept,2))\n",
    "print(line_eq)\n",
    "plt.figure(figsize = (10,6))\n",
    "plt.scatter(movie_year,movie_imdb, color=\"slateblue\")\n",
    "plt.plot(movie_year,regress_values,\"r-\",color=\"red\")\n",
    "plt.annotate(line_eq,(1900,2),fontsize=15,color=\"red\")\n",
    "\n",
    "# Give our chart some labels and a title\n",
    "plt.title(\"IMDb by Years\",fontweight =\"bold\",fontsize=20, name=\"Copperplate\" )\n",
    "plt.xlabel('Year')\n",
    "plt.ylabel('IMDb Rating')\n",
    "\n",
    "\n",
    "print(f\"The correlation between both factors is {round(movie_correlation[0],2)}\")\n",
    "plt.show()"
   ]
  },
  {
   "cell_type": "code",
   "execution_count": 32,
   "metadata": {},
   "outputs": [
    {
     "data": {
      "text/plain": [
       "<matplotlib.axes._subplots.AxesSubplot at 0x7fc347fd23a0>"
      ]
     },
     "execution_count": 32,
     "metadata": {},
     "output_type": "execute_result"
    },
    {
     "data": {
      "image/png": "[encoded data removed]",
      "text/plain": [
       "<Figure size 432x288 with 2 Axes>"
      ]
     },
     "metadata": {
      "needs_background": "light"
     },
     "output_type": "display_data"
    }
   ],
   "source": [
    "corrs = movies.corr()\n",
    "sns.heatmap(corrs,cmap=\"BuPu\")"
   ]
  },
  {
   "cell_type": "code",
   "execution_count": 33,
   "metadata": {},
   "outputs": [
    {
     "data": {
      "text/html": [
       "<table class=\"simpletable\">\n",
       "<caption>OLS Regression Results</caption>\n",
       "<tr>\n",
       "  <th>Dep. Variable:</th>          <td>IMDb</td>       <th>  R-squared:         </th> <td>   0.035</td> \n",
       "</tr>\n",
       "<tr>\n",
       "  <th>Model:</th>                   <td>OLS</td>       <th>  Adj. R-squared:    </th> <td>   0.034</td> \n",
       "</tr>\n",
       "<tr>\n",
       "  <th>Method:</th>             <td>Least Squares</td>  <th>  F-statistic:       </th> <td>   116.0</td> \n",
       "</tr>\n",
       "<tr>\n",
       "  <th>Date:</th>             <td>Sun, 15 Nov 2020</td> <th>  Prob (F-statistic):</th> <td>6.13e-121</td>\n",
       "</tr>\n",
       "<tr>\n",
       "  <th>Time:</th>                 <td>21:42:43</td>     <th>  Log-Likelihood:    </th> <td> -27491.</td> \n",
       "</tr>\n",
       "<tr>\n",
       "  <th>No. Observations:</th>      <td> 16173</td>      <th>  AIC:               </th> <td>5.499e+04</td>\n",
       "</tr>\n",
       "<tr>\n",
       "  <th>Df Residuals:</th>          <td> 16167</td>      <th>  BIC:               </th> <td>5.504e+04</td>\n",
       "</tr>\n",
       "<tr>\n",
       "  <th>Df Model:</th>              <td>     5</td>      <th>                     </th>     <td> </td>    \n",
       "</tr>\n",
       "<tr>\n",
       "  <th>Covariance Type:</th>      <td>nonrobust</td>    <th>                     </th>     <td> </td>    \n",
       "</tr>\n",
       "</table>\n",
       "<table class=\"simpletable\">\n",
       "<tr>\n",
       "       <td></td>          <th>coef</th>     <th>std err</th>      <th>t</th>      <th>P>|t|</th>  <th>[0.025</th>    <th>0.975]</th>  \n",
       "</tr>\n",
       "<tr>\n",
       "  <th>const</th>       <td>   14.9631</td> <td>    1.049</td> <td>   14.261</td> <td> 0.000</td> <td>   12.906</td> <td>   17.020</td>\n",
       "</tr>\n",
       "<tr>\n",
       "  <th>Year</th>        <td>   -0.0045</td> <td>    0.001</td> <td>   -8.671</td> <td> 0.000</td> <td>   -0.006</td> <td>   -0.004</td>\n",
       "</tr>\n",
       "<tr>\n",
       "  <th>Netflix</th>     <td>    0.4211</td> <td>    0.058</td> <td>    7.319</td> <td> 0.000</td> <td>    0.308</td> <td>    0.534</td>\n",
       "</tr>\n",
       "<tr>\n",
       "  <th>Hulu</th>        <td>    0.3129</td> <td>    0.061</td> <td>    5.117</td> <td> 0.000</td> <td>    0.193</td> <td>    0.433</td>\n",
       "</tr>\n",
       "<tr>\n",
       "  <th>Prime Video</th> <td>   -0.1543</td> <td>    0.058</td> <td>   -2.673</td> <td> 0.008</td> <td>   -0.267</td> <td>   -0.041</td>\n",
       "</tr>\n",
       "<tr>\n",
       "  <th>Disney+</th>     <td>    0.5225</td> <td>    0.079</td> <td>    6.634</td> <td> 0.000</td> <td>    0.368</td> <td>    0.677</td>\n",
       "</tr>\n",
       "</table>\n",
       "<table class=\"simpletable\">\n",
       "<tr>\n",
       "  <th>Omnibus:</th>       <td>534.785</td> <th>  Durbin-Watson:     </th> <td>   1.300</td> \n",
       "</tr>\n",
       "<tr>\n",
       "  <th>Prob(Omnibus):</th> <td> 0.000</td>  <th>  Jarque-Bera (JB):  </th> <td> 589.282</td> \n",
       "</tr>\n",
       "<tr>\n",
       "  <th>Skew:</th>          <td>-0.468</td>  <th>  Prob(JB):          </th> <td>1.09e-128</td>\n",
       "</tr>\n",
       "<tr>\n",
       "  <th>Kurtosis:</th>      <td> 3.008</td>  <th>  Cond. No.          </th> <td>2.02e+05</td> \n",
       "</tr>\n",
       "</table><br/><br/>Warnings:<br/>[1] Standard Errors assume that the covariance matrix of the errors is correctly specified.<br/>[2] The condition number is large, 2.02e+05. This might indicate that there are<br/>strong multicollinearity or other numerical problems."
      ],
      "text/plain": [
       "<class 'statsmodels.iolib.summary.Summary'>\n",
       "\"\"\"\n",
       "                            OLS Regression Results                            \n",
       "==============================================================================\n",
       "Dep. Variable:                   IMDb   R-squared:                       0.035\n",
       "Model:                            OLS   Adj. R-squared:                  0.034\n",
       "Method:                 Least Squares   F-statistic:                     116.0\n",
       "Date:                Sun, 15 Nov 2020   Prob (F-statistic):          6.13e-121\n",
       "Time:                        21:42:43   Log-Likelihood:                -27491.\n",
       "No. Observations:               16173   AIC:                         5.499e+04\n",
       "Df Residuals:                   16167   BIC:                         5.504e+04\n",
       "Df Model:                           5                                         \n",
       "Covariance Type:            nonrobust                                         \n",
       "===============================================================================\n",
       "                  coef    std err          t      P>|t|      [0.025      0.975]\n",
       "-------------------------------------------------------------------------------\n",
       "const          14.9631      1.049     14.261      0.000      12.906      17.020\n",
       "Year           -0.0045      0.001     -8.671      0.000      -0.006      -0.004\n",
       "Netflix         0.4211      0.058      7.319      0.000       0.308       0.534\n",
       "Hulu            0.3129      0.061      5.117      0.000       0.193       0.433\n",
       "Prime Video    -0.1543      0.058     -2.673      0.008      -0.267      -0.041\n",
       "Disney+         0.5225      0.079      6.634      0.000       0.368       0.677\n",
       "==============================================================================\n",
       "Omnibus:                      534.785   Durbin-Watson:                   1.300\n",
       "Prob(Omnibus):                  0.000   Jarque-Bera (JB):              589.282\n",
       "Skew:                          -0.468   Prob(JB):                    1.09e-128\n",
       "Kurtosis:                       3.008   Cond. No.                     2.02e+05\n",
       "==============================================================================\n",
       "\n",
       "Warnings:\n",
       "[1] Standard Errors assume that the covariance matrix of the errors is correctly specified.\n",
       "[2] The condition number is large, 2.02e+05. This might indicate that there are\n",
       "strong multicollinearity or other numerical problems.\n",
       "\"\"\""
      ]
     },
     "execution_count": 33,
     "metadata": {},
     "output_type": "execute_result"
    }
   ],
   "source": [
    "feature = movies[['Year', 'Netflix', 'Hulu', 'Prime Video', 'Disney+']]\n",
    "target = movies[\"IMDb\"]\n",
    "X = sm.add_constant(feature)\n",
    "Y = target\n",
    "model = sm.OLS(Y,X)\n",
    "results = model.fit()\n",
    "results.summary()"
   ]
  },
  {
   "cell_type": "code",
   "execution_count": 34,
   "metadata": {},
   "outputs": [],
   "source": [
    "predictions = results.predict()\n",
    "residuals = Y - predictions"
   ]
  },
  {
   "cell_type": "code",
   "execution_count": 35,
   "metadata": {},
   "outputs": [
    {
     "data": {
      "image/png": "[encoded data removed]",
      "text/plain": [
       "<Figure size 432x288 with 1 Axes>"
      ]
     },
     "metadata": {
      "needs_background": "light"
     },
     "output_type": "display_data"
    }
   ],
   "source": [
    "plt.scatter(Y, predictions, color=\"slateblue\")\n",
    "plt.plot(Y,Y, color = \"r\")\n",
    "\n",
    "# Give our chart some labels and a title\n",
    "plt.title(\"Movie's IMDb prediction\",fontweight =\"bold\",fontsize=20, name=\"Copperplate\" )\n",
    "plt.xlabel('Actual Rating',fontsize=16, name=\"Copperplate\")\n",
    "plt.ylabel('Predicted Rating',fontsize=16, name=\"Copperplate\")\n",
    "\n",
    "\n",
    "plt.show()"
   ]
  },
  {
   "cell_type": "code",
   "execution_count": 36,
   "metadata": {},
   "outputs": [
    {
     "data": {
      "image/png": "[encoded data removed]",
      "text/plain": [
       "<Figure size 432x288 with 1 Axes>"
      ]
     },
     "metadata": {
      "needs_background": "light"
     },
     "output_type": "display_data"
    }
   ],
   "source": [
    "plt.scatter(predictions,residuals, color=\"slateblue\")\n",
    "\n",
    "# Give our chart some labels and a title\n",
    "plt.title(\"Residual Plot of Prediction\",fontweight =\"bold\",fontsize=20, name=\"Copperplate\" )\n",
    "plt.xlabel('Actual Rating',fontsize=16, name=\"Copperplate\")\n",
    "plt.ylabel('Predicted Rating',fontsize=16, name=\"Copperplate\")\n",
    "\n",
    "plt.show()"
   ]
  },
  {
   "cell_type": "code",
   "execution_count": null,
   "metadata": {},
   "outputs": [],
   "source": []
  }
 ],
 "metadata": {
  "kernelspec": {
   "display_name": "Python 3",
   "language": "python",
   "name": "python3"
  },
  "language_info": {
   "codemirror_mode": {
    "name": "ipython",
    "version": 3
   },
   "file_extension": ".py",
   "mimetype": "text/x-python",
   "name": "python",
   "nbconvert_exporter": "python",
   "pygments_lexer": "ipython3",
   "version": "3.8.3"
  }
 },
 "nbformat": 4,
 "nbformat_minor": 4
}
