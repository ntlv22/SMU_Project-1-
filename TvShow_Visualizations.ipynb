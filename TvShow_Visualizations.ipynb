{
 "cells": [
  {
   "cell_type": "code",
   "execution_count": 1,
   "metadata": {},
   "outputs": [],
   "source": [
    "import pandas as pd\n",
    "import matplotlib.pyplot as plt\n",
    "import seaborn as sns\n",
    "\n",
    "\n",
    "import numpy as np\n",
    "\n",
    "import matplotlib.pyplot as plt\n",
    "\n",
    "%matplotlib inline\n",
    "import matplotlib.image as mpimg\n",
    "import math\n",
    "\n",
    "\n",
    "\n",
    "from matplotlib.offsetbox import (TextArea, DrawingArea, OffsetImage,\n",
    "                                  AnnotationBbox)\n",
    "\n",
    "from IPython.display import Image"
   ]
  },
  {
   "cell_type": "code",
   "execution_count": 2,
   "metadata": {},
   "outputs": [],
   "source": [
    "#read the files\n",
    "\n",
    "file1 = \"Output/cleanTvshows.csv\"\n",
    "\n",
    "df = pd.read_csv(file1)\n"
   ]
  },
  {
   "cell_type": "code",
   "execution_count": 3,
   "metadata": {},
   "outputs": [
    {
     "data": {
      "text/html": [
       "<div>\n",
       "<style scoped>\n",
       "    .dataframe tbody tr th:only-of-type {\n",
       "        vertical-align: middle;\n",
       "    }\n",
       "\n",
       "    .dataframe tbody tr th {\n",
       "        vertical-align: top;\n",
       "    }\n",
       "\n",
       "    .dataframe thead th {\n",
       "        text-align: right;\n",
       "    }\n",
       "</style>\n",
       "<table border=\"1\" class=\"dataframe\">\n",
       "  <thead>\n",
       "    <tr style=\"text-align: right;\">\n",
       "      <th></th>\n",
       "      <th>Title</th>\n",
       "      <th>Year</th>\n",
       "      <th>Age</th>\n",
       "      <th>IMDb</th>\n",
       "      <th>Netflix</th>\n",
       "      <th>Hulu</th>\n",
       "      <th>Prime Video</th>\n",
       "      <th>Disney+</th>\n",
       "      <th>type</th>\n",
       "    </tr>\n",
       "  </thead>\n",
       "  <tbody>\n",
       "    <tr>\n",
       "      <th>0</th>\n",
       "      <td>Breaking Bad</td>\n",
       "      <td>2008</td>\n",
       "      <td>18.0</td>\n",
       "      <td>9.5</td>\n",
       "      <td>1</td>\n",
       "      <td>0</td>\n",
       "      <td>0</td>\n",
       "      <td>0</td>\n",
       "      <td>1</td>\n",
       "    </tr>\n",
       "    <tr>\n",
       "      <th>1</th>\n",
       "      <td>Stranger Things</td>\n",
       "      <td>2016</td>\n",
       "      <td>16.0</td>\n",
       "      <td>8.8</td>\n",
       "      <td>1</td>\n",
       "      <td>0</td>\n",
       "      <td>0</td>\n",
       "      <td>0</td>\n",
       "      <td>1</td>\n",
       "    </tr>\n",
       "    <tr>\n",
       "      <th>2</th>\n",
       "      <td>Money Heist</td>\n",
       "      <td>2017</td>\n",
       "      <td>18.0</td>\n",
       "      <td>8.4</td>\n",
       "      <td>1</td>\n",
       "      <td>0</td>\n",
       "      <td>0</td>\n",
       "      <td>0</td>\n",
       "      <td>1</td>\n",
       "    </tr>\n",
       "    <tr>\n",
       "      <th>3</th>\n",
       "      <td>Sherlock</td>\n",
       "      <td>2010</td>\n",
       "      <td>16.0</td>\n",
       "      <td>9.1</td>\n",
       "      <td>1</td>\n",
       "      <td>0</td>\n",
       "      <td>0</td>\n",
       "      <td>0</td>\n",
       "      <td>1</td>\n",
       "    </tr>\n",
       "    <tr>\n",
       "      <th>4</th>\n",
       "      <td>Better Call Saul</td>\n",
       "      <td>2015</td>\n",
       "      <td>18.0</td>\n",
       "      <td>8.7</td>\n",
       "      <td>1</td>\n",
       "      <td>0</td>\n",
       "      <td>0</td>\n",
       "      <td>0</td>\n",
       "      <td>1</td>\n",
       "    </tr>\n",
       "  </tbody>\n",
       "</table>\n",
       "</div>"
      ],
      "text/plain": [
       "              Title  Year   Age  IMDb  Netflix  Hulu  Prime Video  Disney+  \\\n",
       "0      Breaking Bad  2008  18.0   9.5        1     0            0        0   \n",
       "1   Stranger Things  2016  16.0   8.8        1     0            0        0   \n",
       "2       Money Heist  2017  18.0   8.4        1     0            0        0   \n",
       "3          Sherlock  2010  16.0   9.1        1     0            0        0   \n",
       "4  Better Call Saul  2015  18.0   8.7        1     0            0        0   \n",
       "\n",
       "   type  \n",
       "0     1  \n",
       "1     1  \n",
       "2     1  \n",
       "3     1  \n",
       "4     1  "
      ]
     },
     "execution_count": 3,
     "metadata": {},
     "output_type": "execute_result"
    }
   ],
   "source": [
    "df.head()"
   ]
  },
  {
   "cell_type": "code",
   "execution_count": 4,
   "metadata": {},
   "outputs": [
    {
     "data": {
      "text/html": [
       "<div>\n",
       "<style scoped>\n",
       "    .dataframe tbody tr th:only-of-type {\n",
       "        vertical-align: middle;\n",
       "    }\n",
       "\n",
       "    .dataframe tbody tr th {\n",
       "        vertical-align: top;\n",
       "    }\n",
       "\n",
       "    .dataframe thead th {\n",
       "        text-align: right;\n",
       "    }\n",
       "</style>\n",
       "<table border=\"1\" class=\"dataframe\">\n",
       "  <thead>\n",
       "    <tr style=\"text-align: right;\">\n",
       "      <th></th>\n",
       "      <th>Title</th>\n",
       "      <th>Year</th>\n",
       "      <th>Age</th>\n",
       "      <th>IMDb</th>\n",
       "      <th>Netflix</th>\n",
       "      <th>Hulu</th>\n",
       "      <th>Prime Video</th>\n",
       "      <th>Disney+</th>\n",
       "      <th>type</th>\n",
       "      <th>Service</th>\n",
       "    </tr>\n",
       "  </thead>\n",
       "  <tbody>\n",
       "    <tr>\n",
       "      <th>0</th>\n",
       "      <td>Breaking Bad</td>\n",
       "      <td>2008</td>\n",
       "      <td>18.0</td>\n",
       "      <td>9.5</td>\n",
       "      <td>1</td>\n",
       "      <td>0</td>\n",
       "      <td>0</td>\n",
       "      <td>0</td>\n",
       "      <td>1</td>\n",
       "      <td></td>\n",
       "    </tr>\n",
       "    <tr>\n",
       "      <th>1</th>\n",
       "      <td>Stranger Things</td>\n",
       "      <td>2016</td>\n",
       "      <td>16.0</td>\n",
       "      <td>8.8</td>\n",
       "      <td>1</td>\n",
       "      <td>0</td>\n",
       "      <td>0</td>\n",
       "      <td>0</td>\n",
       "      <td>1</td>\n",
       "      <td></td>\n",
       "    </tr>\n",
       "    <tr>\n",
       "      <th>2</th>\n",
       "      <td>Money Heist</td>\n",
       "      <td>2017</td>\n",
       "      <td>18.0</td>\n",
       "      <td>8.4</td>\n",
       "      <td>1</td>\n",
       "      <td>0</td>\n",
       "      <td>0</td>\n",
       "      <td>0</td>\n",
       "      <td>1</td>\n",
       "      <td></td>\n",
       "    </tr>\n",
       "    <tr>\n",
       "      <th>3</th>\n",
       "      <td>Sherlock</td>\n",
       "      <td>2010</td>\n",
       "      <td>16.0</td>\n",
       "      <td>9.1</td>\n",
       "      <td>1</td>\n",
       "      <td>0</td>\n",
       "      <td>0</td>\n",
       "      <td>0</td>\n",
       "      <td>1</td>\n",
       "      <td></td>\n",
       "    </tr>\n",
       "    <tr>\n",
       "      <th>4</th>\n",
       "      <td>Better Call Saul</td>\n",
       "      <td>2015</td>\n",
       "      <td>18.0</td>\n",
       "      <td>8.7</td>\n",
       "      <td>1</td>\n",
       "      <td>0</td>\n",
       "      <td>0</td>\n",
       "      <td>0</td>\n",
       "      <td>1</td>\n",
       "      <td></td>\n",
       "    </tr>\n",
       "    <tr>\n",
       "      <th>...</th>\n",
       "      <td>...</td>\n",
       "      <td>...</td>\n",
       "      <td>...</td>\n",
       "      <td>...</td>\n",
       "      <td>...</td>\n",
       "      <td>...</td>\n",
       "      <td>...</td>\n",
       "      <td>...</td>\n",
       "      <td>...</td>\n",
       "      <td>...</td>\n",
       "    </tr>\n",
       "    <tr>\n",
       "      <th>5606</th>\n",
       "      <td>Tut's Treasures: Hidden Secrets</td>\n",
       "      <td>2018</td>\n",
       "      <td>NaN</td>\n",
       "      <td>NaN</td>\n",
       "      <td>0</td>\n",
       "      <td>0</td>\n",
       "      <td>0</td>\n",
       "      <td>1</td>\n",
       "      <td>1</td>\n",
       "      <td></td>\n",
       "    </tr>\n",
       "    <tr>\n",
       "      <th>5607</th>\n",
       "      <td>Paradise Islands</td>\n",
       "      <td>2017</td>\n",
       "      <td>NaN</td>\n",
       "      <td>NaN</td>\n",
       "      <td>0</td>\n",
       "      <td>0</td>\n",
       "      <td>0</td>\n",
       "      <td>1</td>\n",
       "      <td>1</td>\n",
       "      <td></td>\n",
       "    </tr>\n",
       "    <tr>\n",
       "      <th>5608</th>\n",
       "      <td>Wild Russia</td>\n",
       "      <td>2018</td>\n",
       "      <td>NaN</td>\n",
       "      <td>NaN</td>\n",
       "      <td>0</td>\n",
       "      <td>0</td>\n",
       "      <td>0</td>\n",
       "      <td>1</td>\n",
       "      <td>1</td>\n",
       "      <td></td>\n",
       "    </tr>\n",
       "    <tr>\n",
       "      <th>5609</th>\n",
       "      <td>Love &amp; Vets</td>\n",
       "      <td>2017</td>\n",
       "      <td>NaN</td>\n",
       "      <td>NaN</td>\n",
       "      <td>0</td>\n",
       "      <td>0</td>\n",
       "      <td>0</td>\n",
       "      <td>1</td>\n",
       "      <td>1</td>\n",
       "      <td></td>\n",
       "    </tr>\n",
       "    <tr>\n",
       "      <th>5610</th>\n",
       "      <td>United States of Animals</td>\n",
       "      <td>2016</td>\n",
       "      <td>NaN</td>\n",
       "      <td>NaN</td>\n",
       "      <td>0</td>\n",
       "      <td>0</td>\n",
       "      <td>0</td>\n",
       "      <td>1</td>\n",
       "      <td>1</td>\n",
       "      <td></td>\n",
       "    </tr>\n",
       "  </tbody>\n",
       "</table>\n",
       "<p>5611 rows × 10 columns</p>\n",
       "</div>"
      ],
      "text/plain": [
       "                                Title  Year   Age  IMDb  Netflix  Hulu  \\\n",
       "0                        Breaking Bad  2008  18.0   9.5        1     0   \n",
       "1                     Stranger Things  2016  16.0   8.8        1     0   \n",
       "2                         Money Heist  2017  18.0   8.4        1     0   \n",
       "3                            Sherlock  2010  16.0   9.1        1     0   \n",
       "4                    Better Call Saul  2015  18.0   8.7        1     0   \n",
       "...                               ...   ...   ...   ...      ...   ...   \n",
       "5606  Tut's Treasures: Hidden Secrets  2018   NaN   NaN        0     0   \n",
       "5607                 Paradise Islands  2017   NaN   NaN        0     0   \n",
       "5608                      Wild Russia  2018   NaN   NaN        0     0   \n",
       "5609                      Love & Vets  2017   NaN   NaN        0     0   \n",
       "5610         United States of Animals  2016   NaN   NaN        0     0   \n",
       "\n",
       "      Prime Video  Disney+  type Service  \n",
       "0               0        0     1          \n",
       "1               0        0     1          \n",
       "2               0        0     1          \n",
       "3               0        0     1          \n",
       "4               0        0     1          \n",
       "...           ...      ...   ...     ...  \n",
       "5606            0        1     1          \n",
       "5607            0        1     1          \n",
       "5608            0        1     1          \n",
       "5609            0        1     1          \n",
       "5610            0        1     1          \n",
       "\n",
       "[5611 rows x 10 columns]"
      ]
     },
     "execution_count": 4,
     "metadata": {},
     "output_type": "execute_result"
    }
   ],
   "source": [
    "# add one more column for the type of streaming service\n",
    "df.insert(9,\"Service\",'',True)\n",
    "df"
   ]
  },
  {
   "cell_type": "code",
   "execution_count": 5,
   "metadata": {},
   "outputs": [],
   "source": [
    "service = []\n",
    "for index,row in df.iterrows():\n",
    "    if (row['Netflix'] == 1) & (row['Hulu'] == 0) & (row['Prime Video'] == 0) & (row['Disney+'] == 0):\n",
    "        service.append('Netflix')\n",
    "        \n",
    "    elif (row['Netflix'] == 0) & (row['Hulu'] == 1) & (row['Prime Video'] == 0) & (row['Disney+'] == 0):\n",
    "        service.append('Hulu')\n",
    "        \n",
    "    elif (row['Netflix'] == 0) & (row['Hulu'] == 0) & (row['Prime Video'] == 1) & (row['Disney+'] == 0):\n",
    "        service.append('Prime Video')\n",
    "        \n",
    "    elif (row['Netflix'] == 0) & (row['Hulu'] == 0) & (row['Prime Video'] == 0) & (row['Disney+'] == 1):\n",
    "        service.append('Disney+')\n",
    "    \n",
    "    else:\n",
    "        service.append(\"Multiple\")\n",
    "        \n",
    "df['Service'] = service\n"
   ]
  },
  {
   "cell_type": "code",
   "execution_count": 6,
   "metadata": {},
   "outputs": [
    {
     "data": {
      "text/html": [
       "<div>\n",
       "<style scoped>\n",
       "    .dataframe tbody tr th:only-of-type {\n",
       "        vertical-align: middle;\n",
       "    }\n",
       "\n",
       "    .dataframe tbody tr th {\n",
       "        vertical-align: top;\n",
       "    }\n",
       "\n",
       "    .dataframe thead th {\n",
       "        text-align: right;\n",
       "    }\n",
       "</style>\n",
       "<table border=\"1\" class=\"dataframe\">\n",
       "  <thead>\n",
       "    <tr style=\"text-align: right;\">\n",
       "      <th></th>\n",
       "      <th>Title</th>\n",
       "      <th>Year</th>\n",
       "      <th>Age</th>\n",
       "      <th>IMDb</th>\n",
       "      <th>Netflix</th>\n",
       "      <th>Hulu</th>\n",
       "      <th>Prime Video</th>\n",
       "      <th>Disney+</th>\n",
       "      <th>type</th>\n",
       "      <th>Service</th>\n",
       "    </tr>\n",
       "  </thead>\n",
       "  <tbody>\n",
       "    <tr>\n",
       "      <th>0</th>\n",
       "      <td>Breaking Bad</td>\n",
       "      <td>2008</td>\n",
       "      <td>18.0</td>\n",
       "      <td>9.5</td>\n",
       "      <td>1</td>\n",
       "      <td>0</td>\n",
       "      <td>0</td>\n",
       "      <td>0</td>\n",
       "      <td>1</td>\n",
       "      <td>Netflix</td>\n",
       "    </tr>\n",
       "    <tr>\n",
       "      <th>1</th>\n",
       "      <td>Stranger Things</td>\n",
       "      <td>2016</td>\n",
       "      <td>16.0</td>\n",
       "      <td>8.8</td>\n",
       "      <td>1</td>\n",
       "      <td>0</td>\n",
       "      <td>0</td>\n",
       "      <td>0</td>\n",
       "      <td>1</td>\n",
       "      <td>Netflix</td>\n",
       "    </tr>\n",
       "    <tr>\n",
       "      <th>2</th>\n",
       "      <td>Money Heist</td>\n",
       "      <td>2017</td>\n",
       "      <td>18.0</td>\n",
       "      <td>8.4</td>\n",
       "      <td>1</td>\n",
       "      <td>0</td>\n",
       "      <td>0</td>\n",
       "      <td>0</td>\n",
       "      <td>1</td>\n",
       "      <td>Netflix</td>\n",
       "    </tr>\n",
       "    <tr>\n",
       "      <th>3</th>\n",
       "      <td>Sherlock</td>\n",
       "      <td>2010</td>\n",
       "      <td>16.0</td>\n",
       "      <td>9.1</td>\n",
       "      <td>1</td>\n",
       "      <td>0</td>\n",
       "      <td>0</td>\n",
       "      <td>0</td>\n",
       "      <td>1</td>\n",
       "      <td>Netflix</td>\n",
       "    </tr>\n",
       "    <tr>\n",
       "      <th>4</th>\n",
       "      <td>Better Call Saul</td>\n",
       "      <td>2015</td>\n",
       "      <td>18.0</td>\n",
       "      <td>8.7</td>\n",
       "      <td>1</td>\n",
       "      <td>0</td>\n",
       "      <td>0</td>\n",
       "      <td>0</td>\n",
       "      <td>1</td>\n",
       "      <td>Netflix</td>\n",
       "    </tr>\n",
       "  </tbody>\n",
       "</table>\n",
       "</div>"
      ],
      "text/plain": [
       "              Title  Year   Age  IMDb  Netflix  Hulu  Prime Video  Disney+  \\\n",
       "0      Breaking Bad  2008  18.0   9.5        1     0            0        0   \n",
       "1   Stranger Things  2016  16.0   8.8        1     0            0        0   \n",
       "2       Money Heist  2017  18.0   8.4        1     0            0        0   \n",
       "3          Sherlock  2010  16.0   9.1        1     0            0        0   \n",
       "4  Better Call Saul  2015  18.0   8.7        1     0            0        0   \n",
       "\n",
       "   type  Service  \n",
       "0     1  Netflix  \n",
       "1     1  Netflix  \n",
       "2     1  Netflix  \n",
       "3     1  Netflix  \n",
       "4     1  Netflix  "
      ]
     },
     "execution_count": 6,
     "metadata": {},
     "output_type": "execute_result"
    }
   ],
   "source": [
    "df.head()"
   ]
  },
  {
   "cell_type": "code",
   "execution_count": 7,
   "metadata": {},
   "outputs": [
    {
     "data": {
      "text/plain": [
       "Prime Video    1889\n",
       "Netflix        1748\n",
       "Hulu           1452\n",
       "Multiple        366\n",
       "Disney+         156\n",
       "Name: Service, dtype: int64"
      ]
     },
     "execution_count": 7,
     "metadata": {},
     "output_type": "execute_result"
    }
   ],
   "source": [
    "df.Service.value_counts()"
   ]
  },
  {
   "cell_type": "code",
   "execution_count": 8,
   "metadata": {},
   "outputs": [
    {
     "data": {
      "text/plain": [
       "Service\n",
       "Disney+        6.910959\n",
       "Hulu           6.992806\n",
       "Multiple       7.289441\n",
       "Netflix        7.149786\n",
       "Prime Video    7.171481\n",
       "Name: IMDb, dtype: float64"
      ]
     },
     "execution_count": 8,
     "metadata": {},
     "output_type": "execute_result"
    }
   ],
   "source": [
    "aveService = df.groupby('Service').IMDb.mean()\n",
    "aveService"
   ]
  },
  {
   "cell_type": "code",
   "execution_count": 11,
   "metadata": {},
   "outputs": [],
   "source": [
    "# Create the bins on Age column in which Data will be held  \n",
    "bins = [0,7, 13, 17, 99]\n",
    "\n",
    "# Create the names for the five bins\n",
    "group_names = [\"G\", \"PG\", \"PG-13\", \"R\"]"
   ]
  },
  {
   "cell_type": "code",
   "execution_count": 12,
   "metadata": {},
   "outputs": [
    {
     "data": {
      "text/html": [
       "<div>\n",
       "<style scoped>\n",
       "    .dataframe tbody tr th:only-of-type {\n",
       "        vertical-align: middle;\n",
       "    }\n",
       "\n",
       "    .dataframe tbody tr th {\n",
       "        vertical-align: top;\n",
       "    }\n",
       "\n",
       "    .dataframe thead th {\n",
       "        text-align: right;\n",
       "    }\n",
       "</style>\n",
       "<table border=\"1\" class=\"dataframe\">\n",
       "  <thead>\n",
       "    <tr style=\"text-align: right;\">\n",
       "      <th></th>\n",
       "      <th>Title</th>\n",
       "      <th>Year</th>\n",
       "      <th>Age</th>\n",
       "      <th>IMDb</th>\n",
       "      <th>Netflix</th>\n",
       "      <th>Hulu</th>\n",
       "      <th>Prime Video</th>\n",
       "      <th>Disney+</th>\n",
       "      <th>type</th>\n",
       "      <th>Service</th>\n",
       "      <th>Age Bin</th>\n",
       "    </tr>\n",
       "  </thead>\n",
       "  <tbody>\n",
       "    <tr>\n",
       "      <th>0</th>\n",
       "      <td>Breaking Bad</td>\n",
       "      <td>2008</td>\n",
       "      <td>18.0</td>\n",
       "      <td>9.5</td>\n",
       "      <td>1</td>\n",
       "      <td>0</td>\n",
       "      <td>0</td>\n",
       "      <td>0</td>\n",
       "      <td>1</td>\n",
       "      <td>Netflix</td>\n",
       "      <td>R</td>\n",
       "    </tr>\n",
       "    <tr>\n",
       "      <th>1</th>\n",
       "      <td>Stranger Things</td>\n",
       "      <td>2016</td>\n",
       "      <td>16.0</td>\n",
       "      <td>8.8</td>\n",
       "      <td>1</td>\n",
       "      <td>0</td>\n",
       "      <td>0</td>\n",
       "      <td>0</td>\n",
       "      <td>1</td>\n",
       "      <td>Netflix</td>\n",
       "      <td>PG-13</td>\n",
       "    </tr>\n",
       "    <tr>\n",
       "      <th>2</th>\n",
       "      <td>Money Heist</td>\n",
       "      <td>2017</td>\n",
       "      <td>18.0</td>\n",
       "      <td>8.4</td>\n",
       "      <td>1</td>\n",
       "      <td>0</td>\n",
       "      <td>0</td>\n",
       "      <td>0</td>\n",
       "      <td>1</td>\n",
       "      <td>Netflix</td>\n",
       "      <td>R</td>\n",
       "    </tr>\n",
       "    <tr>\n",
       "      <th>3</th>\n",
       "      <td>Sherlock</td>\n",
       "      <td>2010</td>\n",
       "      <td>16.0</td>\n",
       "      <td>9.1</td>\n",
       "      <td>1</td>\n",
       "      <td>0</td>\n",
       "      <td>0</td>\n",
       "      <td>0</td>\n",
       "      <td>1</td>\n",
       "      <td>Netflix</td>\n",
       "      <td>PG-13</td>\n",
       "    </tr>\n",
       "    <tr>\n",
       "      <th>4</th>\n",
       "      <td>Better Call Saul</td>\n",
       "      <td>2015</td>\n",
       "      <td>18.0</td>\n",
       "      <td>8.7</td>\n",
       "      <td>1</td>\n",
       "      <td>0</td>\n",
       "      <td>0</td>\n",
       "      <td>0</td>\n",
       "      <td>1</td>\n",
       "      <td>Netflix</td>\n",
       "      <td>R</td>\n",
       "    </tr>\n",
       "    <tr>\n",
       "      <th>...</th>\n",
       "      <td>...</td>\n",
       "      <td>...</td>\n",
       "      <td>...</td>\n",
       "      <td>...</td>\n",
       "      <td>...</td>\n",
       "      <td>...</td>\n",
       "      <td>...</td>\n",
       "      <td>...</td>\n",
       "      <td>...</td>\n",
       "      <td>...</td>\n",
       "      <td>...</td>\n",
       "    </tr>\n",
       "    <tr>\n",
       "      <th>5606</th>\n",
       "      <td>Tut's Treasures: Hidden Secrets</td>\n",
       "      <td>2018</td>\n",
       "      <td>NaN</td>\n",
       "      <td>NaN</td>\n",
       "      <td>0</td>\n",
       "      <td>0</td>\n",
       "      <td>0</td>\n",
       "      <td>1</td>\n",
       "      <td>1</td>\n",
       "      <td>Disney+</td>\n",
       "      <td>NaN</td>\n",
       "    </tr>\n",
       "    <tr>\n",
       "      <th>5607</th>\n",
       "      <td>Paradise Islands</td>\n",
       "      <td>2017</td>\n",
       "      <td>NaN</td>\n",
       "      <td>NaN</td>\n",
       "      <td>0</td>\n",
       "      <td>0</td>\n",
       "      <td>0</td>\n",
       "      <td>1</td>\n",
       "      <td>1</td>\n",
       "      <td>Disney+</td>\n",
       "      <td>NaN</td>\n",
       "    </tr>\n",
       "    <tr>\n",
       "      <th>5608</th>\n",
       "      <td>Wild Russia</td>\n",
       "      <td>2018</td>\n",
       "      <td>NaN</td>\n",
       "      <td>NaN</td>\n",
       "      <td>0</td>\n",
       "      <td>0</td>\n",
       "      <td>0</td>\n",
       "      <td>1</td>\n",
       "      <td>1</td>\n",
       "      <td>Disney+</td>\n",
       "      <td>NaN</td>\n",
       "    </tr>\n",
       "    <tr>\n",
       "      <th>5609</th>\n",
       "      <td>Love &amp; Vets</td>\n",
       "      <td>2017</td>\n",
       "      <td>NaN</td>\n",
       "      <td>NaN</td>\n",
       "      <td>0</td>\n",
       "      <td>0</td>\n",
       "      <td>0</td>\n",
       "      <td>1</td>\n",
       "      <td>1</td>\n",
       "      <td>Disney+</td>\n",
       "      <td>NaN</td>\n",
       "    </tr>\n",
       "    <tr>\n",
       "      <th>5610</th>\n",
       "      <td>United States of Animals</td>\n",
       "      <td>2016</td>\n",
       "      <td>NaN</td>\n",
       "      <td>NaN</td>\n",
       "      <td>0</td>\n",
       "      <td>0</td>\n",
       "      <td>0</td>\n",
       "      <td>1</td>\n",
       "      <td>1</td>\n",
       "      <td>Disney+</td>\n",
       "      <td>NaN</td>\n",
       "    </tr>\n",
       "  </tbody>\n",
       "</table>\n",
       "<p>5611 rows × 11 columns</p>\n",
       "</div>"
      ],
      "text/plain": [
       "                                Title  Year   Age  IMDb  Netflix  Hulu  \\\n",
       "0                        Breaking Bad  2008  18.0   9.5        1     0   \n",
       "1                     Stranger Things  2016  16.0   8.8        1     0   \n",
       "2                         Money Heist  2017  18.0   8.4        1     0   \n",
       "3                            Sherlock  2010  16.0   9.1        1     0   \n",
       "4                    Better Call Saul  2015  18.0   8.7        1     0   \n",
       "...                               ...   ...   ...   ...      ...   ...   \n",
       "5606  Tut's Treasures: Hidden Secrets  2018   NaN   NaN        0     0   \n",
       "5607                 Paradise Islands  2017   NaN   NaN        0     0   \n",
       "5608                      Wild Russia  2018   NaN   NaN        0     0   \n",
       "5609                      Love & Vets  2017   NaN   NaN        0     0   \n",
       "5610         United States of Animals  2016   NaN   NaN        0     0   \n",
       "\n",
       "      Prime Video  Disney+  type  Service Age Bin  \n",
       "0               0        0     1  Netflix       R  \n",
       "1               0        0     1  Netflix   PG-13  \n",
       "2               0        0     1  Netflix       R  \n",
       "3               0        0     1  Netflix   PG-13  \n",
       "4               0        0     1  Netflix       R  \n",
       "...           ...      ...   ...      ...     ...  \n",
       "5606            0        1     1  Disney+     NaN  \n",
       "5607            0        1     1  Disney+     NaN  \n",
       "5608            0        1     1  Disney+     NaN  \n",
       "5609            0        1     1  Disney+     NaN  \n",
       "5610            0        1     1  Disney+     NaN  \n",
       "\n",
       "[5611 rows x 11 columns]"
      ]
     },
     "execution_count": 12,
     "metadata": {},
     "output_type": "execute_result"
    }
   ],
   "source": [
    "df[\"Age Bin\"] = pd.cut(df[\"Age\"], bins, labels=group_names, include_lowest=True)\n",
    "df"
   ]
  },
  {
   "cell_type": "markdown",
   "metadata": {},
   "source": [
    "#  Bar charts between Age and Services"
   ]
  },
  {
   "cell_type": "code",
   "execution_count": 41,
   "metadata": {},
   "outputs": [
    {
     "data": {
      "image/png": "[encoded data removed]",
      "text/plain": [
       "<Figure size 720x432 with 1 Axes>"
      ]
     },
     "metadata": {
      "needs_background": "light"
     },
     "output_type": "display_data"
    }
   ],
   "source": [
    "net = df.loc[df.Service == \"Netflix\"]\n",
    "countAge = net.groupby(\"Age Bin\").size()\n",
    "#figsize\n",
    "plt.figure(figsize=(10,6))\n",
    "\n",
    "#raw plot\n",
    "plt.bar(countAge.index, countAge.values, color='#E50914', alpha=0.5, align=\"center\")\n",
    "\n",
    "\n",
    "# Give our chart some labels and a tile\n",
    "plt.title(\"Age Rating by Netflix\",fontweight=\"bold\", fontsize=20, name=\"Copperplate\")\n",
    "plt.xlabel(\"\",fontsize=16, name=\"Copperplate\")\n",
    "plt.ylabel(\"Counts of TvShow\",fontsize=16, name=\"Copperplate\")\n",
    "\n",
    "#show/save\n",
    "plt.show()"
   ]
  },
  {
   "cell_type": "code",
   "execution_count": 42,
   "metadata": {},
   "outputs": [
    {
     "data": {
      "image/png": "[encoded data removed]",
      "text/plain": [
       "<Figure size 720x432 with 1 Axes>"
      ]
     },
     "metadata": {
      "needs_background": "light"
     },
     "output_type": "display_data"
    }
   ],
   "source": [
    "net = df.loc[df.Service == \"Hulu\"]\n",
    "countAge = net.groupby(\"Age Bin\").size()\n",
    "#figsize\n",
    "plt.figure(figsize=(10,6))\n",
    "\n",
    "#raw plot\n",
    "plt.bar(countAge.index, countAge.values, color='#3DBB3D', alpha=0.5, align=\"center\")\n",
    "\n",
    "\n",
    "# Give our chart some labels and a tile\n",
    "plt.title(\"Age Rating by Hulu\",fontweight=\"bold\", fontsize=20, name=\"Copperplate\")\n",
    "plt.xlabel(\"\", fontsize=16, name=\"Copperplate\")\n",
    "plt.ylabel(\"Counts of TvShow\", fontsize=16, name=\"Copperplate\")\n",
    "\n",
    "#show/save\n",
    "plt.show()"
   ]
  },
  {
   "cell_type": "code",
   "execution_count": 43,
   "metadata": {},
   "outputs": [
    {
     "data": {
      "image/png": "[encoded data removed]",
      "text/plain": [
       "<Figure size 720x432 with 1 Axes>"
      ]
     },
     "metadata": {
      "needs_background": "light"
     },
     "output_type": "display_data"
    }
   ],
   "source": [
    "net = df.loc[df.Service == \"Prime Video\"]\n",
    "countAge = net.groupby(\"Age Bin\").size()\n",
    "#figsize\n",
    "plt.figure(figsize=(10,6))\n",
    "\n",
    "#raw plot\n",
    "plt.bar(countAge.index, countAge.values, color='#FF9900', alpha=0.5, align=\"center\")\n",
    "\n",
    "\n",
    "# Give our chart some labels and a tile\n",
    "plt.title(\"Age Rating by Prime Video\",fontweight=\"bold\", fontsize=20, name=\"Copperplate\")\n",
    "plt.xlabel(\"\", fontsize=16, name=\"Copperplate\")\n",
    "plt.ylabel(\"Counts of TvShow\",fontsize=16, name=\"Copperplate\")\n",
    "\n",
    "#show/save\n",
    "plt.show()"
   ]
  },
  {
   "cell_type": "code",
   "execution_count": 44,
   "metadata": {},
   "outputs": [
    {
     "data": {
      "image/png": "[encoded data removed]",
      "text/plain": [
       "<Figure size 720x432 with 1 Axes>"
      ]
     },
     "metadata": {
      "needs_background": "light"
     },
     "output_type": "display_data"
    }
   ],
   "source": [
    "net = df.loc[df.Service == \"Disney+\"]\n",
    "countAge = net.groupby(\"Age Bin\").size()\n",
    "#figsize\n",
    "plt.figure(figsize=(10,6))\n",
    "\n",
    "#raw plot\n",
    "plt.bar(countAge.index, countAge.values, color='#006E99', alpha=0.5, align=\"center\")\n",
    "\n",
    "\n",
    "# Give our chart some labels and a tile\n",
    "plt.title(\"Age Rating by Disney+\",fontweight=\"bold\", fontsize=20, name=\"Copperplate\")\n",
    "plt.xlabel(\"\", fontsize=16, name=\"Copperplate\")\n",
    "plt.ylabel(\"Counts of TvShow\", fontsize=16, name=\"Copperplate\")\n",
    "\n",
    "#show/save\n",
    "plt.show()"
   ]
  },
  {
   "cell_type": "markdown",
   "metadata": {},
   "source": [
    "# Bar charts between IMDb and Services\n"
   ]
  },
  {
   "cell_type": "code",
   "execution_count": 17,
   "metadata": {},
   "outputs": [
    {
     "data": {
      "text/plain": [
       "IMDb\n",
       "3.5    1\n",
       "4.6    4\n",
       "4.8    2\n",
       "4.9    1\n",
       "5.0    2\n",
       "5.2    3\n",
       "5.4    1\n",
       "5.5    2\n",
       "5.6    1\n",
       "5.7    2\n",
       "5.8    3\n",
       "5.9    3\n",
       "6.0    4\n",
       "6.1    6\n",
       "6.2    3\n",
       "6.3    3\n",
       "6.4    4\n",
       "6.5    8\n",
       "6.6    7\n",
       "6.7    3\n",
       "6.8    9\n",
       "6.9    1\n",
       "7.0    5\n",
       "7.1    5\n",
       "7.2    6\n",
       "7.3    1\n",
       "7.4    5\n",
       "7.5    5\n",
       "7.6    6\n",
       "7.7    1\n",
       "7.8    2\n",
       "7.9    7\n",
       "8.0    4\n",
       "8.1    6\n",
       "8.2    8\n",
       "8.3    3\n",
       "8.4    2\n",
       "8.5    2\n",
       "8.6    2\n",
       "8.7    1\n",
       "8.8    1\n",
       "9.1    1\n",
       "dtype: int64"
      ]
     },
     "execution_count": 17,
     "metadata": {},
     "output_type": "execute_result"
    }
   ],
   "source": [
    "countIMDb = net.groupby(\"IMDb\").size()\n",
    "countIMDb"
   ]
  },
  {
   "cell_type": "code",
   "execution_count": 45,
   "metadata": {},
   "outputs": [
    {
     "data": {
      "image/png": "[encoded data removed]",
      "text/plain": [
       "<Figure size 720x432 with 1 Axes>"
      ]
     },
     "metadata": {
      "needs_background": "light"
     },
     "output_type": "display_data"
    }
   ],
   "source": [
    "net = df.loc[df.Service == \"Netflix\"]\n",
    "countIMDb = net.groupby(\"IMDb\").size()\n",
    "\n",
    "#figsize\n",
    "plt.figure(figsize=(10,6))\n",
    "\n",
    "#raw plot\n",
    "plt.bar(countIMDb.index, countIMDb.values, color='#E50914', alpha=0.5, align=\"center\",width=0.1)\n",
    "\n",
    "\n",
    "# Give our chart some labels and a tile\n",
    "plt.title(\"Imdb Rating by Netflix\",fontweight =\"bold\",fontsize=20, name=\"Copperplate\")\n",
    "plt.xlabel(\"\",fontsize=16, name=\"Copperplate\")\n",
    "plt.ylabel(\"Counts of TvShow\",fontsize=16, name=\"Copperplate\")\n",
    "\n",
    "#show/save\n",
    "plt.show()"
   ]
  },
  {
   "cell_type": "code",
   "execution_count": 46,
   "metadata": {},
   "outputs": [
    {
     "data": {
      "image/png": "[encoded data removed]",
      "text/plain": [
       "<Figure size 720x432 with 1 Axes>"
      ]
     },
     "metadata": {
      "needs_background": "light"
     },
     "output_type": "display_data"
    }
   ],
   "source": [
    "net = df.loc[df.Service == \"Hulu\"]\n",
    "countIMDb = net.groupby(\"IMDb\").size()\n",
    "\n",
    "#figsize\n",
    "plt.figure(figsize=(10,6))\n",
    "\n",
    "#raw plot\n",
    "plt.bar(countIMDb.index, countIMDb.values, color='#3DBB3D', alpha=0.5, align=\"center\",width=0.1)\n",
    "\n",
    "\n",
    "# Give our chart some labels and a tile\n",
    "plt.title(\"Imdb Rating by Hulu\",fontweight =\"bold\",fontsize=20, name=\"Copperplate\")\n",
    "plt.xlabel(\"\",fontsize=16, name=\"Copperplate\")\n",
    "plt.ylabel(\"Counts of TvShow\",fontsize=16, name=\"Copperplate\")\n",
    "\n",
    "#show/save\n",
    "plt.show()"
   ]
  },
  {
   "cell_type": "code",
   "execution_count": 47,
   "metadata": {},
   "outputs": [
    {
     "data": {
      "image/png": "[encoded data removed]",
      "text/plain": [
       "<Figure size 720x432 with 1 Axes>"
      ]
     },
     "metadata": {
      "needs_background": "light"
     },
     "output_type": "display_data"
    }
   ],
   "source": [
    "net = df.loc[df.Service == \"Prime Video\"]\n",
    "countIMDb = net.groupby(\"IMDb\").size()\n",
    "\n",
    "#figsize\n",
    "plt.figure(figsize=(10,6))\n",
    "\n",
    "#raw plot\n",
    "plt.bar(countIMDb.index, countIMDb.values, color='#FF9900', alpha=0.5, align=\"center\",width=0.1)\n",
    "\n",
    "\n",
    "# Give our chart some labels and a tile\n",
    "plt.title(\"Imdb Rating by Prime Video\")\n",
    "plt.xlabel(\"\",fontsize=16, name=\"Copperplate\")\n",
    "plt.ylabel(\"Counts of TvShow\",fontsize=16, name=\"Copperplate\")\n",
    "\n",
    "#show/save\n",
    "plt.show()"
   ]
  },
  {
   "cell_type": "code",
   "execution_count": 48,
   "metadata": {},
   "outputs": [
    {
     "data": {
      "image/png": "[encoded data removed]",
      "text/plain": [
       "<Figure size 720x432 with 1 Axes>"
      ]
     },
     "metadata": {
      "needs_background": "light"
     },
     "output_type": "display_data"
    }
   ],
   "source": [
    "net = df.loc[df.Service == \"Disney+\"]\n",
    "countIMDb = net.groupby(\"IMDb\").size()\n",
    "\n",
    "#figsize\n",
    "plt.figure(figsize=(10,6))\n",
    "\n",
    "#raw plot\n",
    "plt.bar(countIMDb.index, countIMDb.values, color='#006E99', alpha=0.5, align=\"center\",width=0.1)\n",
    "\n",
    "\n",
    "# Give our chart some labels and a tile\n",
    "plt.title(\"Imdb Rating by Disney+\",fontweight =\"bold\",fontsize=20, name=\"Copperplate\")\n",
    "plt.xlabel(\"\",fontsize=16, name=\"Copperplate\")\n",
    "plt.ylabel(\"Counts of TvShow\",fontsize=16, name=\"Copperplate\")\n",
    "\n",
    "#show/save\n",
    "plt.show()"
   ]
  },
  {
   "cell_type": "markdown",
   "metadata": {},
   "source": [
    "# Line Graphs Year vs Services"
   ]
  },
  {
   "cell_type": "code",
   "execution_count": 49,
   "metadata": {},
   "outputs": [
    {
     "data": {
      "image/png": "[encoded data removed]",
      "text/plain": [
       "<Figure size 432x288 with 1 Axes>"
      ]
     },
     "metadata": {
      "needs_background": "light"
     },
     "output_type": "display_data"
    }
   ],
   "source": [
    "net = df.loc[df.Service == \"Netflix\"]\n",
    "countYear = net.groupby(\"Year\").size()\n",
    "#figsize\n",
    "plt.plot(figsize=(10,6))\n",
    "\n",
    "#raw plot\n",
    "plt.plot(countYear.index, countYear.values, color='#E50914')\n",
    "\n",
    "\n",
    "# Give our chart some labels and a tile\n",
    "plt.title(\"Netflix Movies by Year\",fontweight=\"bold\", fontsize=20, name=\"Copperplate\")\n",
    "plt.xlabel(\"\",fontsize=16, name=\"Copperplate\")\n",
    "plt.ylabel(\"Counts of TvShow\",fontsize=16, name=\"Copperplate\")\n",
    "\n",
    "#show/save\n",
    "plt.show()"
   ]
  },
  {
   "cell_type": "code",
   "execution_count": 50,
   "metadata": {},
   "outputs": [
    {
     "data": {
      "image/png": "[encoded data removed]",
      "text/plain": [
       "<Figure size 432x288 with 1 Axes>"
      ]
     },
     "metadata": {
      "needs_background": "light"
     },
     "output_type": "display_data"
    }
   ],
   "source": [
    "net = df.loc[df.Service == \"Hulu\"]\n",
    "countYear = net.groupby(\"Year\").size()\n",
    "#figsize\n",
    "plt.plot(figsize=(10,6))\n",
    "\n",
    "#raw plot\n",
    "plt.plot(countYear.index, countYear.values, color='#3DBB3D')\n",
    "\n",
    "\n",
    "# Give our chart some labels and a tile\n",
    "plt.title(\"Hulu Movies by Year\",fontweight=\"bold\", fontsize=20, name=\"Copperplate\")\n",
    "plt.xlabel(\"\", fontsize=16, name=\"Copperplate\")\n",
    "plt.ylabel(\"Counts of TvShow\", fontsize=16, name=\"Copperplate\")\n",
    "\n",
    "#show/save\n",
    "plt.show()"
   ]
  },
  {
   "cell_type": "code",
   "execution_count": 51,
   "metadata": {},
   "outputs": [
    {
     "data": {
      "image/png": "[encoded data removed]",
      "text/plain": [
       "<Figure size 432x288 with 1 Axes>"
      ]
     },
     "metadata": {
      "needs_background": "light"
     },
     "output_type": "display_data"
    }
   ],
   "source": [
    "net = df.loc[df.Service == \"Prime Video\"]\n",
    "countYear = net.groupby(\"Year\").size()\n",
    "#figsize\n",
    "plt.plot(figsize=(10,6))\n",
    "\n",
    "#raw plot\n",
    "plt.plot(countYear.index, countYear.values, color='#FF9900')\n",
    "\n",
    "\n",
    "# Give our chart some labels and a tile\n",
    "plt.title(\"Prime Video Movies by Year\",fontweight=\"bold\", fontsize=20, name=\"Copperplate\")\n",
    "plt.xlabel(\"\", fontsize=16, name=\"Copperplate\")\n",
    "plt.ylabel(\"Counts of TvShow\", fontsize=16, name=\"Copperplate\")\n",
    "\n",
    "#show/save\n",
    "plt.show()"
   ]
  },
  {
   "cell_type": "code",
   "execution_count": 53,
   "metadata": {},
   "outputs": [
    {
     "data": {
      "image/png": "[encoded data removed]",
      "text/plain": [
       "<Figure size 432x288 with 1 Axes>"
      ]
     },
     "metadata": {
      "needs_background": "light"
     },
     "output_type": "display_data"
    }
   ],
   "source": [
    "net = df.loc[df.Service == \"Disney+\"]\n",
    "countYear = net.groupby(\"Year\").size()\n",
    "#figsize\n",
    "plt.plot(figsize=(10,6))\n",
    "\n",
    "#raw plot\n",
    "plt.plot(countYear.index, countYear.values, color='#006E99')\n",
    "\n",
    "\n",
    "# Give our chart some labels and a tile\n",
    "plt.title(\"Disney+ Movies by Year\",fontweight=\"bold\", fontsize=20, name=\"Copperplate\")\n",
    "plt.xlabel(\"\", fontsize=16, name=\"Copperplate\")\n",
    "plt.ylabel(\"Counts of TvShow\", fontsize=16, name=\"Copperplate\")\n",
    "\n",
    "#show/save\n",
    "plt.show()"
   ]
  },
  {
   "cell_type": "code",
   "execution_count": null,
   "metadata": {},
   "outputs": [],
   "source": []
  }
 ],
 "metadata": {
  "kernelspec": {
   "display_name": "Python 3",
   "language": "python",
   "name": "python3"
  },
  "language_info": {
   "codemirror_mode": {
    "name": "ipython",
    "version": 3
   },
   "file_extension": ".py",
   "mimetype": "text/x-python",
   "name": "python",
   "nbconvert_exporter": "python",
   "pygments_lexer": "ipython3",
   "version": "3.8.3"
  }
 },
 "nbformat": 4,
 "nbformat_minor": 4
}
